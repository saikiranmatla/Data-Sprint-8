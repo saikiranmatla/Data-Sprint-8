{
  "nbformat": 4,
  "nbformat_minor": 0,
  "metadata": {
    "colab": {
      "name": "Data Sprint #8.ipynb",
      "provenance": [],
      "collapsed_sections": []
    },
    "kernelspec": {
      "name": "python3",
      "display_name": "Python 3"
    },
    "accelerator": "GPU"
  },
  "cells": [
    {
      "cell_type": "code",
      "metadata": {
        "id": "N5nJrBkb9klX"
      },
      "source": [
        "#Import libraries\n",
        "import pandas as pd\n",
        "import seaborn as sns\n",
        "import numpy as np\n",
        "import matplotlib.pyplot as plt"
      ],
      "execution_count": 1,
      "outputs": []
    },
    {
      "cell_type": "code",
      "metadata": {
        "id": "PipEcrYE9q3w",
        "outputId": "49c1afd5-4d97-47ad-f7fd-c4b070fdfa00",
        "colab": {
          "base_uri": "https://localhost:8080/",
          "height": 224
        }
      },
      "source": [
        "#load and read train data\n",
        "audit_data  = pd.read_csv(\"https://raw.githubusercontent.com/dphi-official/Datasets/master/audit_data/training_set_label.csv\" )\n",
        "audit_data.head()"
      ],
      "execution_count": 2,
      "outputs": [
        {
          "output_type": "execute_result",
          "data": {
            "text/html": [
              "<div>\n",
              "<style scoped>\n",
              "    .dataframe tbody tr th:only-of-type {\n",
              "        vertical-align: middle;\n",
              "    }\n",
              "\n",
              "    .dataframe tbody tr th {\n",
              "        vertical-align: top;\n",
              "    }\n",
              "\n",
              "    .dataframe thead th {\n",
              "        text-align: right;\n",
              "    }\n",
              "</style>\n",
              "<table border=\"1\" class=\"dataframe\">\n",
              "  <thead>\n",
              "    <tr style=\"text-align: right;\">\n",
              "      <th></th>\n",
              "      <th>Sector_score</th>\n",
              "      <th>LOCATION_ID</th>\n",
              "      <th>PARA_A</th>\n",
              "      <th>Score_A</th>\n",
              "      <th>Risk_A</th>\n",
              "      <th>PARA_B</th>\n",
              "      <th>Score_B</th>\n",
              "      <th>Risk_B</th>\n",
              "      <th>TOTAL</th>\n",
              "      <th>numbers</th>\n",
              "      <th>Score_B.1</th>\n",
              "      <th>Risk_C</th>\n",
              "      <th>Money_Value</th>\n",
              "      <th>Score_MV</th>\n",
              "      <th>Risk_D</th>\n",
              "      <th>District_Loss</th>\n",
              "      <th>PROB</th>\n",
              "      <th>RiSk_E</th>\n",
              "      <th>History</th>\n",
              "      <th>Prob</th>\n",
              "      <th>Risk_F</th>\n",
              "      <th>Score</th>\n",
              "      <th>Inherent_Risk</th>\n",
              "      <th>CONTROL_RISK</th>\n",
              "      <th>Detection_Risk</th>\n",
              "      <th>Audit_Risk</th>\n",
              "      <th>Risk</th>\n",
              "    </tr>\n",
              "  </thead>\n",
              "  <tbody>\n",
              "    <tr>\n",
              "      <th>0</th>\n",
              "      <td>2.72</td>\n",
              "      <td>8</td>\n",
              "      <td>1.13</td>\n",
              "      <td>0.4</td>\n",
              "      <td>0.452</td>\n",
              "      <td>0.00</td>\n",
              "      <td>0.2</td>\n",
              "      <td>0.000</td>\n",
              "      <td>1.13</td>\n",
              "      <td>5.0</td>\n",
              "      <td>0.2</td>\n",
              "      <td>1.0</td>\n",
              "      <td>0.00</td>\n",
              "      <td>0.2</td>\n",
              "      <td>0.000</td>\n",
              "      <td>2</td>\n",
              "      <td>0.2</td>\n",
              "      <td>0.4</td>\n",
              "      <td>0</td>\n",
              "      <td>0.2</td>\n",
              "      <td>0.0</td>\n",
              "      <td>2.2</td>\n",
              "      <td>1.852</td>\n",
              "      <td>0.4</td>\n",
              "      <td>0.5</td>\n",
              "      <td>0.3704</td>\n",
              "      <td>0</td>\n",
              "    </tr>\n",
              "    <tr>\n",
              "      <th>1</th>\n",
              "      <td>1.85</td>\n",
              "      <td>13</td>\n",
              "      <td>8.25</td>\n",
              "      <td>0.6</td>\n",
              "      <td>4.950</td>\n",
              "      <td>1.59</td>\n",
              "      <td>0.4</td>\n",
              "      <td>0.636</td>\n",
              "      <td>9.84</td>\n",
              "      <td>5.0</td>\n",
              "      <td>0.2</td>\n",
              "      <td>1.0</td>\n",
              "      <td>0.02</td>\n",
              "      <td>0.2</td>\n",
              "      <td>0.004</td>\n",
              "      <td>2</td>\n",
              "      <td>0.2</td>\n",
              "      <td>0.4</td>\n",
              "      <td>0</td>\n",
              "      <td>0.2</td>\n",
              "      <td>0.0</td>\n",
              "      <td>3.0</td>\n",
              "      <td>6.990</td>\n",
              "      <td>0.4</td>\n",
              "      <td>0.5</td>\n",
              "      <td>1.3980</td>\n",
              "      <td>1</td>\n",
              "    </tr>\n",
              "    <tr>\n",
              "      <th>2</th>\n",
              "      <td>2.72</td>\n",
              "      <td>19</td>\n",
              "      <td>2.13</td>\n",
              "      <td>0.6</td>\n",
              "      <td>1.278</td>\n",
              "      <td>0.59</td>\n",
              "      <td>0.2</td>\n",
              "      <td>0.118</td>\n",
              "      <td>2.72</td>\n",
              "      <td>5.0</td>\n",
              "      <td>0.2</td>\n",
              "      <td>1.0</td>\n",
              "      <td>0.76</td>\n",
              "      <td>0.2</td>\n",
              "      <td>0.152</td>\n",
              "      <td>2</td>\n",
              "      <td>0.2</td>\n",
              "      <td>0.4</td>\n",
              "      <td>0</td>\n",
              "      <td>0.2</td>\n",
              "      <td>0.0</td>\n",
              "      <td>2.4</td>\n",
              "      <td>2.948</td>\n",
              "      <td>0.4</td>\n",
              "      <td>0.5</td>\n",
              "      <td>0.5896</td>\n",
              "      <td>0</td>\n",
              "    </tr>\n",
              "    <tr>\n",
              "      <th>3</th>\n",
              "      <td>59.85</td>\n",
              "      <td>21</td>\n",
              "      <td>0.42</td>\n",
              "      <td>0.2</td>\n",
              "      <td>0.084</td>\n",
              "      <td>0.00</td>\n",
              "      <td>0.2</td>\n",
              "      <td>0.000</td>\n",
              "      <td>0.42</td>\n",
              "      <td>5.0</td>\n",
              "      <td>0.2</td>\n",
              "      <td>1.0</td>\n",
              "      <td>0.00</td>\n",
              "      <td>0.2</td>\n",
              "      <td>0.000</td>\n",
              "      <td>4</td>\n",
              "      <td>0.2</td>\n",
              "      <td>0.8</td>\n",
              "      <td>0</td>\n",
              "      <td>0.2</td>\n",
              "      <td>0.0</td>\n",
              "      <td>2.2</td>\n",
              "      <td>1.884</td>\n",
              "      <td>0.8</td>\n",
              "      <td>0.5</td>\n",
              "      <td>0.7536</td>\n",
              "      <td>0</td>\n",
              "    </tr>\n",
              "    <tr>\n",
              "      <th>4</th>\n",
              "      <td>2.72</td>\n",
              "      <td>4</td>\n",
              "      <td>1.33</td>\n",
              "      <td>0.4</td>\n",
              "      <td>0.532</td>\n",
              "      <td>0.35</td>\n",
              "      <td>0.2</td>\n",
              "      <td>0.070</td>\n",
              "      <td>1.68</td>\n",
              "      <td>5.0</td>\n",
              "      <td>0.2</td>\n",
              "      <td>1.0</td>\n",
              "      <td>0.00</td>\n",
              "      <td>0.2</td>\n",
              "      <td>0.000</td>\n",
              "      <td>2</td>\n",
              "      <td>0.2</td>\n",
              "      <td>0.4</td>\n",
              "      <td>0</td>\n",
              "      <td>0.2</td>\n",
              "      <td>0.0</td>\n",
              "      <td>2.2</td>\n",
              "      <td>2.002</td>\n",
              "      <td>0.4</td>\n",
              "      <td>0.5</td>\n",
              "      <td>0.4004</td>\n",
              "      <td>0</td>\n",
              "    </tr>\n",
              "  </tbody>\n",
              "</table>\n",
              "</div>"
            ],
            "text/plain": [
              "   Sector_score LOCATION_ID  PARA_A  ...  Detection_Risk  Audit_Risk  Risk\n",
              "0          2.72           8    1.13  ...             0.5      0.3704     0\n",
              "1          1.85          13    8.25  ...             0.5      1.3980     1\n",
              "2          2.72          19    2.13  ...             0.5      0.5896     0\n",
              "3         59.85          21    0.42  ...             0.5      0.7536     0\n",
              "4          2.72           4    1.33  ...             0.5      0.4004     0\n",
              "\n",
              "[5 rows x 27 columns]"
            ]
          },
          "metadata": {
            "tags": []
          },
          "execution_count": 2
        }
      ]
    },
    {
      "cell_type": "code",
      "metadata": {
        "id": "W9dcZJQD9q7W",
        "outputId": "de22a7b8-01d2-4a33-dda8-69f5974377b1",
        "colab": {
          "base_uri": "https://localhost:8080/",
          "height": 34
        }
      },
      "source": [
        "audit_data.shape"
      ],
      "execution_count": 3,
      "outputs": [
        {
          "output_type": "execute_result",
          "data": {
            "text/plain": [
              "(543, 27)"
            ]
          },
          "metadata": {
            "tags": []
          },
          "execution_count": 3
        }
      ]
    },
    {
      "cell_type": "code",
      "metadata": {
        "id": "m1UDWojj9q24"
      },
      "source": [
        "df = audit_data.copy()"
      ],
      "execution_count": 4,
      "outputs": []
    },
    {
      "cell_type": "code",
      "metadata": {
        "id": "CAq_9zAR9qzA",
        "outputId": "58e5793e-37ca-4e67-fe0d-f523cb8c3fda",
        "colab": {
          "base_uri": "https://localhost:8080/",
          "height": 224
        }
      },
      "source": [
        "#drop unncessary fields\n",
        "df1 = df.drop(['LOCATION_ID','Inherent_Risk','CONTROL_RISK','Detection_Risk'],axis=1)\n",
        "df1.head()"
      ],
      "execution_count": 5,
      "outputs": [
        {
          "output_type": "execute_result",
          "data": {
            "text/html": [
              "<div>\n",
              "<style scoped>\n",
              "    .dataframe tbody tr th:only-of-type {\n",
              "        vertical-align: middle;\n",
              "    }\n",
              "\n",
              "    .dataframe tbody tr th {\n",
              "        vertical-align: top;\n",
              "    }\n",
              "\n",
              "    .dataframe thead th {\n",
              "        text-align: right;\n",
              "    }\n",
              "</style>\n",
              "<table border=\"1\" class=\"dataframe\">\n",
              "  <thead>\n",
              "    <tr style=\"text-align: right;\">\n",
              "      <th></th>\n",
              "      <th>Sector_score</th>\n",
              "      <th>PARA_A</th>\n",
              "      <th>Score_A</th>\n",
              "      <th>Risk_A</th>\n",
              "      <th>PARA_B</th>\n",
              "      <th>Score_B</th>\n",
              "      <th>Risk_B</th>\n",
              "      <th>TOTAL</th>\n",
              "      <th>numbers</th>\n",
              "      <th>Score_B.1</th>\n",
              "      <th>Risk_C</th>\n",
              "      <th>Money_Value</th>\n",
              "      <th>Score_MV</th>\n",
              "      <th>Risk_D</th>\n",
              "      <th>District_Loss</th>\n",
              "      <th>PROB</th>\n",
              "      <th>RiSk_E</th>\n",
              "      <th>History</th>\n",
              "      <th>Prob</th>\n",
              "      <th>Risk_F</th>\n",
              "      <th>Score</th>\n",
              "      <th>Audit_Risk</th>\n",
              "      <th>Risk</th>\n",
              "    </tr>\n",
              "  </thead>\n",
              "  <tbody>\n",
              "    <tr>\n",
              "      <th>0</th>\n",
              "      <td>2.72</td>\n",
              "      <td>1.13</td>\n",
              "      <td>0.4</td>\n",
              "      <td>0.452</td>\n",
              "      <td>0.00</td>\n",
              "      <td>0.2</td>\n",
              "      <td>0.000</td>\n",
              "      <td>1.13</td>\n",
              "      <td>5.0</td>\n",
              "      <td>0.2</td>\n",
              "      <td>1.0</td>\n",
              "      <td>0.00</td>\n",
              "      <td>0.2</td>\n",
              "      <td>0.000</td>\n",
              "      <td>2</td>\n",
              "      <td>0.2</td>\n",
              "      <td>0.4</td>\n",
              "      <td>0</td>\n",
              "      <td>0.2</td>\n",
              "      <td>0.0</td>\n",
              "      <td>2.2</td>\n",
              "      <td>0.3704</td>\n",
              "      <td>0</td>\n",
              "    </tr>\n",
              "    <tr>\n",
              "      <th>1</th>\n",
              "      <td>1.85</td>\n",
              "      <td>8.25</td>\n",
              "      <td>0.6</td>\n",
              "      <td>4.950</td>\n",
              "      <td>1.59</td>\n",
              "      <td>0.4</td>\n",
              "      <td>0.636</td>\n",
              "      <td>9.84</td>\n",
              "      <td>5.0</td>\n",
              "      <td>0.2</td>\n",
              "      <td>1.0</td>\n",
              "      <td>0.02</td>\n",
              "      <td>0.2</td>\n",
              "      <td>0.004</td>\n",
              "      <td>2</td>\n",
              "      <td>0.2</td>\n",
              "      <td>0.4</td>\n",
              "      <td>0</td>\n",
              "      <td>0.2</td>\n",
              "      <td>0.0</td>\n",
              "      <td>3.0</td>\n",
              "      <td>1.3980</td>\n",
              "      <td>1</td>\n",
              "    </tr>\n",
              "    <tr>\n",
              "      <th>2</th>\n",
              "      <td>2.72</td>\n",
              "      <td>2.13</td>\n",
              "      <td>0.6</td>\n",
              "      <td>1.278</td>\n",
              "      <td>0.59</td>\n",
              "      <td>0.2</td>\n",
              "      <td>0.118</td>\n",
              "      <td>2.72</td>\n",
              "      <td>5.0</td>\n",
              "      <td>0.2</td>\n",
              "      <td>1.0</td>\n",
              "      <td>0.76</td>\n",
              "      <td>0.2</td>\n",
              "      <td>0.152</td>\n",
              "      <td>2</td>\n",
              "      <td>0.2</td>\n",
              "      <td>0.4</td>\n",
              "      <td>0</td>\n",
              "      <td>0.2</td>\n",
              "      <td>0.0</td>\n",
              "      <td>2.4</td>\n",
              "      <td>0.5896</td>\n",
              "      <td>0</td>\n",
              "    </tr>\n",
              "    <tr>\n",
              "      <th>3</th>\n",
              "      <td>59.85</td>\n",
              "      <td>0.42</td>\n",
              "      <td>0.2</td>\n",
              "      <td>0.084</td>\n",
              "      <td>0.00</td>\n",
              "      <td>0.2</td>\n",
              "      <td>0.000</td>\n",
              "      <td>0.42</td>\n",
              "      <td>5.0</td>\n",
              "      <td>0.2</td>\n",
              "      <td>1.0</td>\n",
              "      <td>0.00</td>\n",
              "      <td>0.2</td>\n",
              "      <td>0.000</td>\n",
              "      <td>4</td>\n",
              "      <td>0.2</td>\n",
              "      <td>0.8</td>\n",
              "      <td>0</td>\n",
              "      <td>0.2</td>\n",
              "      <td>0.0</td>\n",
              "      <td>2.2</td>\n",
              "      <td>0.7536</td>\n",
              "      <td>0</td>\n",
              "    </tr>\n",
              "    <tr>\n",
              "      <th>4</th>\n",
              "      <td>2.72</td>\n",
              "      <td>1.33</td>\n",
              "      <td>0.4</td>\n",
              "      <td>0.532</td>\n",
              "      <td>0.35</td>\n",
              "      <td>0.2</td>\n",
              "      <td>0.070</td>\n",
              "      <td>1.68</td>\n",
              "      <td>5.0</td>\n",
              "      <td>0.2</td>\n",
              "      <td>1.0</td>\n",
              "      <td>0.00</td>\n",
              "      <td>0.2</td>\n",
              "      <td>0.000</td>\n",
              "      <td>2</td>\n",
              "      <td>0.2</td>\n",
              "      <td>0.4</td>\n",
              "      <td>0</td>\n",
              "      <td>0.2</td>\n",
              "      <td>0.0</td>\n",
              "      <td>2.2</td>\n",
              "      <td>0.4004</td>\n",
              "      <td>0</td>\n",
              "    </tr>\n",
              "  </tbody>\n",
              "</table>\n",
              "</div>"
            ],
            "text/plain": [
              "   Sector_score  PARA_A  Score_A  Risk_A  ...  Risk_F  Score  Audit_Risk  Risk\n",
              "0          2.72    1.13      0.4   0.452  ...     0.0    2.2      0.3704     0\n",
              "1          1.85    8.25      0.6   4.950  ...     0.0    3.0      1.3980     1\n",
              "2          2.72    2.13      0.6   1.278  ...     0.0    2.4      0.5896     0\n",
              "3         59.85    0.42      0.2   0.084  ...     0.0    2.2      0.7536     0\n",
              "4          2.72    1.33      0.4   0.532  ...     0.0    2.2      0.4004     0\n",
              "\n",
              "[5 rows x 23 columns]"
            ]
          },
          "metadata": {
            "tags": []
          },
          "execution_count": 5
        }
      ]
    },
    {
      "cell_type": "markdown",
      "metadata": {
        "id": "dGtwvL1kqz3A"
      },
      "source": [
        "Here Audit risk can be calculated as:\n",
        "\n",
        "AR = IR(Inherent risk) × CR(Control Risk) × DR(Detection Risk)\n",
        "\n",
        "So i removed those 3 columns because AR column alone can provide a whole information \n"
      ]
    },
    {
      "cell_type": "code",
      "metadata": {
        "id": "3Z1-gEl19qwH",
        "outputId": "3095fd96-ac4a-4fa0-9371-72352956abc3",
        "colab": {
          "base_uri": "https://localhost:8080/",
          "height": 119
        }
      },
      "source": [
        "df1['numbers'].value_counts()"
      ],
      "execution_count": 6,
      "outputs": [
        {
          "output_type": "execute_result",
          "data": {
            "text/plain": [
              "5.0    494\n",
              "5.5     33\n",
              "6.0     10\n",
              "6.5      5\n",
              "9.0      1\n",
              "Name: numbers, dtype: int64"
            ]
          },
          "metadata": {
            "tags": []
          },
          "execution_count": 6
        }
      ]
    },
    {
      "cell_type": "code",
      "metadata": {
        "id": "5P7pb0-iApv6",
        "outputId": "de858a6e-b9d4-47e4-87ad-dea64eb6874c",
        "colab": {
          "base_uri": "https://localhost:8080/",
          "height": 85
        }
      },
      "source": [
        "df1['PROB'].value_counts()"
      ],
      "execution_count": 7,
      "outputs": [
        {
          "output_type": "execute_result",
          "data": {
            "text/plain": [
              "0.2    529\n",
              "0.4     13\n",
              "0.6      1\n",
              "Name: PROB, dtype: int64"
            ]
          },
          "metadata": {
            "tags": []
          },
          "execution_count": 7
        }
      ]
    },
    {
      "cell_type": "code",
      "metadata": {
        "id": "fsotT98_A3ek",
        "outputId": "9aef20b2-c280-4f13-99e3-460522ee5445",
        "colab": {
          "base_uri": "https://localhost:8080/",
          "height": 425
        }
      },
      "source": [
        "df1.isnull().sum()"
      ],
      "execution_count": 8,
      "outputs": [
        {
          "output_type": "execute_result",
          "data": {
            "text/plain": [
              "Sector_score     0\n",
              "PARA_A           0\n",
              "Score_A          0\n",
              "Risk_A           0\n",
              "PARA_B           0\n",
              "Score_B          0\n",
              "Risk_B           0\n",
              "TOTAL            0\n",
              "numbers          0\n",
              "Score_B.1        0\n",
              "Risk_C           0\n",
              "Money_Value      0\n",
              "Score_MV         0\n",
              "Risk_D           0\n",
              "District_Loss    0\n",
              "PROB             0\n",
              "RiSk_E           0\n",
              "History          0\n",
              "Prob             0\n",
              "Risk_F           0\n",
              "Score            0\n",
              "Audit_Risk       0\n",
              "Risk             0\n",
              "dtype: int64"
            ]
          },
          "metadata": {
            "tags": []
          },
          "execution_count": 8
        }
      ]
    },
    {
      "cell_type": "code",
      "metadata": {
        "id": "5KLdKLfWA3rb",
        "outputId": "17975f54-4af5-4733-f5bf-620cf8360e2c",
        "colab": {
          "base_uri": "https://localhost:8080/",
          "height": 317
        }
      },
      "source": [
        "df1.describe()"
      ],
      "execution_count": 9,
      "outputs": [
        {
          "output_type": "execute_result",
          "data": {
            "text/html": [
              "<div>\n",
              "<style scoped>\n",
              "    .dataframe tbody tr th:only-of-type {\n",
              "        vertical-align: middle;\n",
              "    }\n",
              "\n",
              "    .dataframe tbody tr th {\n",
              "        vertical-align: top;\n",
              "    }\n",
              "\n",
              "    .dataframe thead th {\n",
              "        text-align: right;\n",
              "    }\n",
              "</style>\n",
              "<table border=\"1\" class=\"dataframe\">\n",
              "  <thead>\n",
              "    <tr style=\"text-align: right;\">\n",
              "      <th></th>\n",
              "      <th>Sector_score</th>\n",
              "      <th>PARA_A</th>\n",
              "      <th>Score_A</th>\n",
              "      <th>Risk_A</th>\n",
              "      <th>PARA_B</th>\n",
              "      <th>Score_B</th>\n",
              "      <th>Risk_B</th>\n",
              "      <th>TOTAL</th>\n",
              "      <th>numbers</th>\n",
              "      <th>Score_B.1</th>\n",
              "      <th>Risk_C</th>\n",
              "      <th>Money_Value</th>\n",
              "      <th>Score_MV</th>\n",
              "      <th>Risk_D</th>\n",
              "      <th>District_Loss</th>\n",
              "      <th>PROB</th>\n",
              "      <th>RiSk_E</th>\n",
              "      <th>History</th>\n",
              "      <th>Prob</th>\n",
              "      <th>Risk_F</th>\n",
              "      <th>Score</th>\n",
              "      <th>Audit_Risk</th>\n",
              "      <th>Risk</th>\n",
              "    </tr>\n",
              "  </thead>\n",
              "  <tbody>\n",
              "    <tr>\n",
              "      <th>count</th>\n",
              "      <td>543.000000</td>\n",
              "      <td>543.000000</td>\n",
              "      <td>543.000000</td>\n",
              "      <td>543.000000</td>\n",
              "      <td>543.000000</td>\n",
              "      <td>543.000000</td>\n",
              "      <td>543.000000</td>\n",
              "      <td>543.000000</td>\n",
              "      <td>543.000000</td>\n",
              "      <td>543.000000</td>\n",
              "      <td>543.000000</td>\n",
              "      <td>543.000000</td>\n",
              "      <td>543.000000</td>\n",
              "      <td>543.000000</td>\n",
              "      <td>543.000000</td>\n",
              "      <td>543.000000</td>\n",
              "      <td>543.000000</td>\n",
              "      <td>543.000000</td>\n",
              "      <td>543.000000</td>\n",
              "      <td>543.000000</td>\n",
              "      <td>543.000000</td>\n",
              "      <td>543.000000</td>\n",
              "      <td>543.000000</td>\n",
              "    </tr>\n",
              "    <tr>\n",
              "      <th>mean</th>\n",
              "      <td>20.464236</td>\n",
              "      <td>2.142874</td>\n",
              "      <td>0.346593</td>\n",
              "      <td>1.162339</td>\n",
              "      <td>9.480252</td>\n",
              "      <td>0.316022</td>\n",
              "      <td>5.538131</td>\n",
              "      <td>11.615851</td>\n",
              "      <td>5.069982</td>\n",
              "      <td>0.223941</td>\n",
              "      <td>1.155617</td>\n",
              "      <td>12.441131</td>\n",
              "      <td>0.288398</td>\n",
              "      <td>7.237898</td>\n",
              "      <td>2.500921</td>\n",
              "      <td>0.205525</td>\n",
              "      <td>0.519337</td>\n",
              "      <td>0.086556</td>\n",
              "      <td>0.212891</td>\n",
              "      <td>0.044199</td>\n",
              "      <td>2.699448</td>\n",
              "      <td>5.054067</td>\n",
              "      <td>0.392265</td>\n",
              "    </tr>\n",
              "    <tr>\n",
              "      <th>std</th>\n",
              "      <td>24.441277</td>\n",
              "      <td>4.200770</td>\n",
              "      <td>0.173158</td>\n",
              "      <td>2.558306</td>\n",
              "      <td>22.445359</td>\n",
              "      <td>0.171442</td>\n",
              "      <td>13.509523</td>\n",
              "      <td>24.721307</td>\n",
              "      <td>0.281144</td>\n",
              "      <td>0.081145</td>\n",
              "      <td>0.549035</td>\n",
              "      <td>59.090138</td>\n",
              "      <td>0.156512</td>\n",
              "      <td>35.485800</td>\n",
              "      <td>1.214723</td>\n",
              "      <td>0.034986</td>\n",
              "      <td>0.302349</td>\n",
              "      <td>0.534651</td>\n",
              "      <td>0.058735</td>\n",
              "      <td>0.309682</td>\n",
              "      <td>0.853460</td>\n",
              "      <td>13.394958</td>\n",
              "      <td>0.488705</td>\n",
              "    </tr>\n",
              "    <tr>\n",
              "      <th>min</th>\n",
              "      <td>1.850000</td>\n",
              "      <td>0.000000</td>\n",
              "      <td>0.200000</td>\n",
              "      <td>0.000000</td>\n",
              "      <td>0.000000</td>\n",
              "      <td>0.200000</td>\n",
              "      <td>0.000000</td>\n",
              "      <td>0.000000</td>\n",
              "      <td>5.000000</td>\n",
              "      <td>0.200000</td>\n",
              "      <td>1.000000</td>\n",
              "      <td>0.000000</td>\n",
              "      <td>0.200000</td>\n",
              "      <td>0.000000</td>\n",
              "      <td>2.000000</td>\n",
              "      <td>0.200000</td>\n",
              "      <td>0.400000</td>\n",
              "      <td>0.000000</td>\n",
              "      <td>0.200000</td>\n",
              "      <td>0.000000</td>\n",
              "      <td>2.000000</td>\n",
              "      <td>0.280000</td>\n",
              "      <td>0.000000</td>\n",
              "    </tr>\n",
              "    <tr>\n",
              "      <th>25%</th>\n",
              "      <td>2.370000</td>\n",
              "      <td>0.255000</td>\n",
              "      <td>0.200000</td>\n",
              "      <td>0.051000</td>\n",
              "      <td>0.000000</td>\n",
              "      <td>0.200000</td>\n",
              "      <td>0.000000</td>\n",
              "      <td>0.590000</td>\n",
              "      <td>5.000000</td>\n",
              "      <td>0.200000</td>\n",
              "      <td>1.000000</td>\n",
              "      <td>0.000000</td>\n",
              "      <td>0.200000</td>\n",
              "      <td>0.000000</td>\n",
              "      <td>2.000000</td>\n",
              "      <td>0.200000</td>\n",
              "      <td>0.400000</td>\n",
              "      <td>0.000000</td>\n",
              "      <td>0.200000</td>\n",
              "      <td>0.000000</td>\n",
              "      <td>2.000000</td>\n",
              "      <td>0.316400</td>\n",
              "      <td>0.000000</td>\n",
              "    </tr>\n",
              "    <tr>\n",
              "      <th>50%</th>\n",
              "      <td>3.890000</td>\n",
              "      <td>0.840000</td>\n",
              "      <td>0.200000</td>\n",
              "      <td>0.168000</td>\n",
              "      <td>0.460000</td>\n",
              "      <td>0.200000</td>\n",
              "      <td>0.092000</td>\n",
              "      <td>1.370000</td>\n",
              "      <td>5.000000</td>\n",
              "      <td>0.200000</td>\n",
              "      <td>1.000000</td>\n",
              "      <td>0.100000</td>\n",
              "      <td>0.200000</td>\n",
              "      <td>0.020000</td>\n",
              "      <td>2.000000</td>\n",
              "      <td>0.200000</td>\n",
              "      <td>0.400000</td>\n",
              "      <td>0.000000</td>\n",
              "      <td>0.200000</td>\n",
              "      <td>0.000000</td>\n",
              "      <td>2.400000</td>\n",
              "      <td>0.556000</td>\n",
              "      <td>0.000000</td>\n",
              "    </tr>\n",
              "    <tr>\n",
              "      <th>75%</th>\n",
              "      <td>55.570000</td>\n",
              "      <td>2.400000</td>\n",
              "      <td>0.600000</td>\n",
              "      <td>1.440000</td>\n",
              "      <td>4.500000</td>\n",
              "      <td>0.400000</td>\n",
              "      <td>2.184000</td>\n",
              "      <td>7.660000</td>\n",
              "      <td>5.000000</td>\n",
              "      <td>0.200000</td>\n",
              "      <td>1.000000</td>\n",
              "      <td>5.455000</td>\n",
              "      <td>0.400000</td>\n",
              "      <td>2.182000</td>\n",
              "      <td>2.000000</td>\n",
              "      <td>0.200000</td>\n",
              "      <td>0.400000</td>\n",
              "      <td>0.000000</td>\n",
              "      <td>0.200000</td>\n",
              "      <td>0.000000</td>\n",
              "      <td>3.200000</td>\n",
              "      <td>3.032800</td>\n",
              "      <td>1.000000</td>\n",
              "    </tr>\n",
              "    <tr>\n",
              "      <th>max</th>\n",
              "      <td>59.850000</td>\n",
              "      <td>57.030000</td>\n",
              "      <td>0.600000</td>\n",
              "      <td>34.218000</td>\n",
              "      <td>144.390000</td>\n",
              "      <td>0.600000</td>\n",
              "      <td>86.634000</td>\n",
              "      <td>191.360000</td>\n",
              "      <td>9.000000</td>\n",
              "      <td>0.600000</td>\n",
              "      <td>5.400000</td>\n",
              "      <td>935.030000</td>\n",
              "      <td>0.600000</td>\n",
              "      <td>561.018000</td>\n",
              "      <td>6.000000</td>\n",
              "      <td>0.600000</td>\n",
              "      <td>2.400000</td>\n",
              "      <td>9.000000</td>\n",
              "      <td>0.600000</td>\n",
              "      <td>5.400000</td>\n",
              "      <td>5.200000</td>\n",
              "      <td>149.817600</td>\n",
              "      <td>1.000000</td>\n",
              "    </tr>\n",
              "  </tbody>\n",
              "</table>\n",
              "</div>"
            ],
            "text/plain": [
              "       Sector_score      PARA_A     Score_A  ...       Score  Audit_Risk        Risk\n",
              "count    543.000000  543.000000  543.000000  ...  543.000000  543.000000  543.000000\n",
              "mean      20.464236    2.142874    0.346593  ...    2.699448    5.054067    0.392265\n",
              "std       24.441277    4.200770    0.173158  ...    0.853460   13.394958    0.488705\n",
              "min        1.850000    0.000000    0.200000  ...    2.000000    0.280000    0.000000\n",
              "25%        2.370000    0.255000    0.200000  ...    2.000000    0.316400    0.000000\n",
              "50%        3.890000    0.840000    0.200000  ...    2.400000    0.556000    0.000000\n",
              "75%       55.570000    2.400000    0.600000  ...    3.200000    3.032800    1.000000\n",
              "max       59.850000   57.030000    0.600000  ...    5.200000  149.817600    1.000000\n",
              "\n",
              "[8 rows x 23 columns]"
            ]
          },
          "metadata": {
            "tags": []
          },
          "execution_count": 9
        }
      ]
    },
    {
      "cell_type": "code",
      "metadata": {
        "id": "TU8K9rf5mmbA",
        "outputId": "52fcf0cc-e7af-4343-8fb4-f67a915429c4",
        "colab": {
          "base_uri": "https://localhost:8080/",
          "height": 34
        }
      },
      "source": [
        "df1.shape"
      ],
      "execution_count": 10,
      "outputs": [
        {
          "output_type": "execute_result",
          "data": {
            "text/plain": [
              "(543, 23)"
            ]
          },
          "metadata": {
            "tags": []
          },
          "execution_count": 10
        }
      ]
    },
    {
      "cell_type": "code",
      "metadata": {
        "id": "ZrvV1SLEETak",
        "outputId": "4edafd2b-a60e-46a4-feb4-64fa2d61ad19",
        "colab": {
          "base_uri": "https://localhost:8080/",
          "height": 296
        }
      },
      "source": [
        "sns.set_style('whitegrid')\n",
        "sns.countplot(x='Risk', data=df1)"
      ],
      "execution_count": 11,
      "outputs": [
        {
          "output_type": "execute_result",
          "data": {
            "text/plain": [
              "<matplotlib.axes._subplots.AxesSubplot at 0x7fad9a5caa20>"
            ]
          },
          "metadata": {
            "tags": []
          },
          "execution_count": 11
        },
        {
          "output_type": "display_data",
          "data": {
            "image/png": "[encoded data removed]",
            "text/plain": [
              "<Figure size 432x288 with 1 Axes>"
            ]
          },
          "metadata": {
            "tags": []
          }
        }
      ]
    },
    {
      "cell_type": "code",
      "metadata": {
        "id": "vFUV4XX5HUCw",
        "outputId": "74fe4320-d8f4-4ec6-95a1-a4628cd71ae4",
        "colab": {
          "base_uri": "https://localhost:8080/",
          "height": 298
        }
      },
      "source": [
        "sns.set_style('whitegrid')\n",
        "sns.countplot(x='Risk', hue='Sector_score',data=df1,palette='RdBu_r')"
      ],
      "execution_count": 12,
      "outputs": [
        {
          "output_type": "execute_result",
          "data": {
            "text/plain": [
              "<matplotlib.axes._subplots.AxesSubplot at 0x7fad9a0e1160>"
            ]
          },
          "metadata": {
            "tags": []
          },
          "execution_count": 12
        },
        {
          "output_type": "display_data",
          "data": {
            "image/png": "[encoded data removed]",
            "text/plain": [
              "<Figure size 432x288 with 1 Axes>"
            ]
          },
          "metadata": {
            "tags": []
          }
        }
      ]
    },
    {
      "cell_type": "markdown",
      "metadata": {
        "id": "diDMJLA5r2u-"
      },
      "source": [
        "Plotting boxplots to check any outliers\n"
      ]
    },
    {
      "cell_type": "code",
      "metadata": {
        "id": "gEe8_y57HUGe",
        "outputId": "eef633df-aa7d-419c-84ef-9bd50006e194",
        "colab": {
          "base_uri": "https://localhost:8080/",
          "height": 297
        }
      },
      "source": [
        "sns.boxplot(x='Sector_score', data=df1)"
      ],
      "execution_count": 13,
      "outputs": [
        {
          "output_type": "execute_result",
          "data": {
            "text/plain": [
              "<matplotlib.axes._subplots.AxesSubplot at 0x7fad98dfbd68>"
            ]
          },
          "metadata": {
            "tags": []
          },
          "execution_count": 13
        },
        {
          "output_type": "display_data",
          "data": {
            "image/png": "[encoded data removed]",
            "text/plain": [
              "<Figure size 432x288 with 1 Axes>"
            ]
          },
          "metadata": {
            "tags": []
          }
        }
      ]
    },
    {
      "cell_type": "code",
      "metadata": {
        "id": "wfuBL0GGrrLr",
        "outputId": "4459420b-abda-4320-bbc2-43b3feda9787",
        "colab": {
          "base_uri": "https://localhost:8080/",
          "height": 297
        }
      },
      "source": [
        "sns.boxplot(x='Risk_A', data=df1)"
      ],
      "execution_count": 14,
      "outputs": [
        {
          "output_type": "execute_result",
          "data": {
            "text/plain": [
              "<matplotlib.axes._subplots.AxesSubplot at 0x7fad98d05dd8>"
            ]
          },
          "metadata": {
            "tags": []
          },
          "execution_count": 14
        },
        {
          "output_type": "display_data",
          "data": {
            "image/png": "[encoded data removed]",
            "text/plain": [
              "<Figure size 432x288 with 1 Axes>"
            ]
          },
          "metadata": {
            "tags": []
          }
        }
      ]
    },
    {
      "cell_type": "code",
      "metadata": {
        "id": "jmNwFi96sAq2",
        "outputId": "7273a24e-368f-4b83-f29c-f28acc67037e",
        "colab": {
          "base_uri": "https://localhost:8080/",
          "height": 297
        }
      },
      "source": [
        "sns.boxplot(x='PARA_B', data=df1)"
      ],
      "execution_count": 16,
      "outputs": [
        {
          "output_type": "execute_result",
          "data": {
            "text/plain": [
              "<matplotlib.axes._subplots.AxesSubplot at 0x7fad9a61c438>"
            ]
          },
          "metadata": {
            "tags": []
          },
          "execution_count": 16
        },
        {
          "output_type": "display_data",
          "data": {
            "image/png": "[encoded data removed]",
            "text/plain": [
              "<Figure size 432x288 with 1 Axes>"
            ]
          },
          "metadata": {
            "tags": []
          }
        }
      ]
    },
    {
      "cell_type": "code",
      "metadata": {
        "id": "vEHclGN_IKeO",
        "outputId": "d4b93244-fac3-4483-e4d4-60ba433c0382",
        "colab": {
          "base_uri": "https://localhost:8080/",
          "height": 483
        }
      },
      "source": [
        "fig, ax = plt.subplots(figsize=(16,8))\n",
        "ax.scatter(df1['Risk_D'],df1['Risk'])\n",
        "plt.show()"
      ],
      "execution_count": 17,
      "outputs": [
        {
          "output_type": "display_data",
          "data": {
            "image/png": "[encoded data removed]",
            "text/plain": [
              "<Figure size 1152x576 with 1 Axes>"
            ]
          },
          "metadata": {
            "tags": []
          }
        }
      ]
    },
    {
      "cell_type": "markdown",
      "metadata": {
        "id": "5ejLBhAAshsn"
      },
      "source": [
        "Calculating Z-score\n"
      ]
    },
    {
      "cell_type": "code",
      "metadata": {
        "id": "xI65uEn9IKhk",
        "outputId": "fb688529-5dcc-426f-d33e-a991aa84370a",
        "colab": {
          "base_uri": "https://localhost:8080/",
          "height": 136
        }
      },
      "source": [
        "from scipy import stats\n",
        "import numpy as np\n",
        "z = np.abs(stats.zscore(df1))\n",
        "print(z)"
      ],
      "execution_count": 18,
      "outputs": [
        {
          "output_type": "stream",
          "text": [
            "[[0.72666405 0.2413386  0.30871335 ... 0.58574257 0.34998135 0.80340186]\n",
            " [0.7622924  1.45515157 1.4647916  ... 0.35248226 0.27319518 1.2447071 ]\n",
            " [0.72666405 0.00306751 1.4647916  ... 0.35118637 0.3336019  0.80340186]\n",
            " ...\n",
            " [1.43765544 0.4367209  0.84736491 ... 0.82029878 0.35580533 0.80340186]\n",
            " [0.7565591  0.38430126 0.84736491 ... 0.82029878 0.34818798 0.80340186]\n",
            " [0.72666405 0.51058494 0.84736491 ... 0.82029878 0.35673639 0.80340186]]\n"
          ],
          "name": "stdout"
        }
      ]
    },
    {
      "cell_type": "code",
      "metadata": {
        "id": "vnSIS6_nnw1Z",
        "outputId": "dcc283a4-1cbd-4754-8cfb-6528a733a1f3",
        "colab": {
          "base_uri": "https://localhost:8080/",
          "height": 442
        }
      },
      "source": [
        "threshold = 3\n",
        "print(np.where(z > 3))"
      ],
      "execution_count": 19,
      "outputs": [
        {
          "output_type": "stream",
          "text": [
            "(array([  8,   8,   8,  44,  44,  44,  44,  44,  44,  44,  44,  46,  46,\n",
            "        46,  47,  47,  47,  47,  61,  62,  62,  65,  65,  65,  68,  68,\n",
            "        70,  70,  70,  70,  70,  70,  75,  75,  75,  75,  75,  75,  75,\n",
            "        77,  77,  77,  77,  77,  77,  77,  77,  77,  93,  93,  93,  98,\n",
            "        98,  98, 101, 101, 101, 110, 116, 116, 116, 116, 120, 120, 120,\n",
            "       120, 120, 120, 120, 130, 130, 130, 151, 151, 158, 162, 162, 179,\n",
            "       184, 184, 184, 196, 196, 196, 196, 199, 199, 199, 200, 200, 200,\n",
            "       209, 211, 225, 225, 225, 234, 234, 234, 248, 248, 248, 248, 248,\n",
            "       248, 248, 249, 249, 249, 253, 253, 253, 272, 272, 273, 273, 273,\n",
            "       289, 289, 289, 289, 290, 290, 290, 291, 291, 313, 313, 313, 322,\n",
            "       322, 322, 323, 323, 323, 327, 327, 327, 334, 337, 337, 337, 337,\n",
            "       337, 337, 340, 353, 353, 354, 363, 363, 363, 375, 375, 394, 394,\n",
            "       394, 399, 401, 401, 401, 401, 401, 401, 401, 416, 424, 429, 429,\n",
            "       439, 441, 441, 441, 442, 446, 448, 453, 453, 465, 465, 465, 465,\n",
            "       465, 474, 507, 513, 535]), array([ 8,  9, 10,  1,  3,  4,  6,  7, 11, 13, 21,  4,  6,  7,  1,  3,  7,\n",
            "       18, 18, 15, 16,  8,  9, 10,  1,  3,  4,  6,  7, 15, 18, 21,  4,  6,\n",
            "        7,  8,  9, 10, 18,  8,  9, 10, 15, 16, 17, 18, 19, 21,  8,  9, 10,\n",
            "        8,  9, 10,  8,  9, 10, 15, 15, 17, 18, 19,  4,  6,  7, 17, 18, 19,\n",
            "       21,  4,  6,  7, 15, 16, 21, 18, 21, 18,  4,  6,  7, 11, 13, 18, 21,\n",
            "        8,  9, 10,  4,  6,  7, 15, 18,  4,  6,  7,  8,  9, 10,  8,  9, 10,\n",
            "       17, 18, 19, 21,  8,  9, 10, 17, 18, 19, 15, 16, 17, 18, 19,  8,  9,\n",
            "       10, 21, 11, 13, 21,  1,  3,  8,  9, 10,  1,  3, 18,  4,  6,  7, 17,\n",
            "       18, 19, 18,  4,  6,  7,  8,  9, 10, 18, 15, 16, 18,  4,  6,  7, 15,\n",
            "       16,  4,  6,  7, 18,  4,  6,  7,  8,  9, 10, 21, 18, 15, 15, 21, 18,\n",
            "        8,  9, 10, 18, 18, 15,  1,  3,  4,  6,  7, 18, 21, 18, 18, 18, 15]))\n"
          ],
          "name": "stdout"
        }
      ]
    },
    {
      "cell_type": "code",
      "metadata": {
        "id": "hRomSpjanw6q",
        "outputId": "7d0265de-b678-44b5-ec1e-87ea21f381ef",
        "colab": {
          "base_uri": "https://localhost:8080/",
          "height": 34
        }
      },
      "source": [
        "z[8][8]"
      ],
      "execution_count": 20,
      "outputs": [
        {
          "output_type": "execute_result",
          "data": {
            "text/plain": [
              "3.3110305283388173"
            ]
          },
          "metadata": {
            "tags": []
          },
          "execution_count": 20
        }
      ]
    },
    {
      "cell_type": "markdown",
      "metadata": {
        "id": "-QtYNUICtT6b"
      },
      "source": [
        "IQR is somewhat similar to Z-score in terms of finding the distribution of data and then keeping some threshold to identify the outlier."
      ]
    },
    {
      "cell_type": "code",
      "metadata": {
        "id": "aQT5e-bVnw4R",
        "outputId": "bda55ae4-1f89-4ae7-8e24-85f33493b54e",
        "colab": {
          "base_uri": "https://localhost:8080/",
          "height": 425
        }
      },
      "source": [
        "Q1 = df1.quantile(0.25)\n",
        "Q3 = df1.quantile(0.75)\n",
        "IQR = Q3 - Q1\n",
        "print(IQR)"
      ],
      "execution_count": 21,
      "outputs": [
        {
          "output_type": "stream",
          "text": [
            "Sector_score     53.2000\n",
            "PARA_A            2.1450\n",
            "Score_A           0.4000\n",
            "Risk_A            1.3890\n",
            "PARA_B            4.5000\n",
            "Score_B           0.2000\n",
            "Risk_B            2.1840\n",
            "TOTAL             7.0700\n",
            "numbers           0.0000\n",
            "Score_B.1         0.0000\n",
            "Risk_C            0.0000\n",
            "Money_Value       5.4550\n",
            "Score_MV          0.2000\n",
            "Risk_D            2.1820\n",
            "District_Loss     0.0000\n",
            "PROB              0.0000\n",
            "RiSk_E            0.0000\n",
            "History           0.0000\n",
            "Prob              0.0000\n",
            "Risk_F            0.0000\n",
            "Score             1.2000\n",
            "Audit_Risk        2.7164\n",
            "Risk              1.0000\n",
            "dtype: float64\n"
          ],
          "name": "stdout"
        }
      ]
    },
    {
      "cell_type": "code",
      "metadata": {
        "id": "0adITB4VweuX"
      },
      "source": [
        "lower_bound = Q1 -(1.5 * IQR) \n",
        "upper_bound = Q3 +(1.5 * IQR) "
      ],
      "execution_count": 22,
      "outputs": []
    },
    {
      "cell_type": "code",
      "metadata": {
        "id": "OVya35VfwmAF",
        "outputId": "cd5c2532-a1ed-4938-eb93-4554745baa62",
        "colab": {
          "base_uri": "https://localhost:8080/",
          "height": 425
        }
      },
      "source": [
        "lower_bound"
      ],
      "execution_count": 23,
      "outputs": [
        {
          "output_type": "execute_result",
          "data": {
            "text/plain": [
              "Sector_score    -77.4300\n",
              "PARA_A           -2.9625\n",
              "Score_A          -0.4000\n",
              "Risk_A           -2.0325\n",
              "PARA_B           -6.7500\n",
              "Score_B          -0.1000\n",
              "Risk_B           -3.2760\n",
              "TOTAL           -10.0150\n",
              "numbers           5.0000\n",
              "Score_B.1         0.2000\n",
              "Risk_C            1.0000\n",
              "Money_Value      -8.1825\n",
              "Score_MV         -0.1000\n",
              "Risk_D           -3.2730\n",
              "District_Loss     2.0000\n",
              "PROB              0.2000\n",
              "RiSk_E            0.4000\n",
              "History           0.0000\n",
              "Prob              0.2000\n",
              "Risk_F            0.0000\n",
              "Score             0.2000\n",
              "Audit_Risk       -3.7582\n",
              "Risk             -1.5000\n",
              "dtype: float64"
            ]
          },
          "metadata": {
            "tags": []
          },
          "execution_count": 23
        }
      ]
    },
    {
      "cell_type": "code",
      "metadata": {
        "id": "Uqin316Htfa3",
        "outputId": "b4eab23f-167a-4deb-f4c9-c6e37b421102",
        "colab": {
          "base_uri": "https://localhost:8080/",
          "height": 425
        }
      },
      "source": [
        "upper_bound"
      ],
      "execution_count": 24,
      "outputs": [
        {
          "output_type": "execute_result",
          "data": {
            "text/plain": [
              "Sector_score     135.3700\n",
              "PARA_A             5.6175\n",
              "Score_A            1.2000\n",
              "Risk_A             3.5235\n",
              "PARA_B            11.2500\n",
              "Score_B            0.7000\n",
              "Risk_B             5.4600\n",
              "TOTAL             18.2650\n",
              "numbers            5.0000\n",
              "Score_B.1          0.2000\n",
              "Risk_C             1.0000\n",
              "Money_Value       13.6375\n",
              "Score_MV           0.7000\n",
              "Risk_D             5.4550\n",
              "District_Loss      2.0000\n",
              "PROB               0.2000\n",
              "RiSk_E             0.4000\n",
              "History            0.0000\n",
              "Prob               0.2000\n",
              "Risk_F             0.0000\n",
              "Score              5.0000\n",
              "Audit_Risk         7.1074\n",
              "Risk               2.5000\n",
              "dtype: float64"
            ]
          },
          "metadata": {
            "tags": []
          },
          "execution_count": 24
        }
      ]
    },
    {
      "cell_type": "code",
      "metadata": {
        "id": "HW95PDKFoTCD",
        "outputId": "2a2aab91-4f7f-4735-ea0b-817df9949528",
        "colab": {
          "base_uri": "https://localhost:8080/",
          "height": 439
        }
      },
      "source": [
        "(df1 < (Q1 - 1.5 * IQR)) |(df1 > (Q3 + 1.5 * IQR))"
      ],
      "execution_count": 25,
      "outputs": [
        {
          "output_type": "execute_result",
          "data": {
            "text/html": [
              "<div>\n",
              "<style scoped>\n",
              "    .dataframe tbody tr th:only-of-type {\n",
              "        vertical-align: middle;\n",
              "    }\n",
              "\n",
              "    .dataframe tbody tr th {\n",
              "        vertical-align: top;\n",
              "    }\n",
              "\n",
              "    .dataframe thead th {\n",
              "        text-align: right;\n",
              "    }\n",
              "</style>\n",
              "<table border=\"1\" class=\"dataframe\">\n",
              "  <thead>\n",
              "    <tr style=\"text-align: right;\">\n",
              "      <th></th>\n",
              "      <th>Sector_score</th>\n",
              "      <th>PARA_A</th>\n",
              "      <th>Score_A</th>\n",
              "      <th>Risk_A</th>\n",
              "      <th>PARA_B</th>\n",
              "      <th>Score_B</th>\n",
              "      <th>Risk_B</th>\n",
              "      <th>TOTAL</th>\n",
              "      <th>numbers</th>\n",
              "      <th>Score_B.1</th>\n",
              "      <th>Risk_C</th>\n",
              "      <th>Money_Value</th>\n",
              "      <th>Score_MV</th>\n",
              "      <th>Risk_D</th>\n",
              "      <th>District_Loss</th>\n",
              "      <th>PROB</th>\n",
              "      <th>RiSk_E</th>\n",
              "      <th>History</th>\n",
              "      <th>Prob</th>\n",
              "      <th>Risk_F</th>\n",
              "      <th>Score</th>\n",
              "      <th>Audit_Risk</th>\n",
              "      <th>Risk</th>\n",
              "    </tr>\n",
              "  </thead>\n",
              "  <tbody>\n",
              "    <tr>\n",
              "      <th>0</th>\n",
              "      <td>False</td>\n",
              "      <td>False</td>\n",
              "      <td>False</td>\n",
              "      <td>False</td>\n",
              "      <td>False</td>\n",
              "      <td>False</td>\n",
              "      <td>False</td>\n",
              "      <td>False</td>\n",
              "      <td>False</td>\n",
              "      <td>False</td>\n",
              "      <td>False</td>\n",
              "      <td>False</td>\n",
              "      <td>False</td>\n",
              "      <td>False</td>\n",
              "      <td>False</td>\n",
              "      <td>False</td>\n",
              "      <td>False</td>\n",
              "      <td>False</td>\n",
              "      <td>False</td>\n",
              "      <td>False</td>\n",
              "      <td>False</td>\n",
              "      <td>False</td>\n",
              "      <td>False</td>\n",
              "    </tr>\n",
              "    <tr>\n",
              "      <th>1</th>\n",
              "      <td>False</td>\n",
              "      <td>True</td>\n",
              "      <td>False</td>\n",
              "      <td>True</td>\n",
              "      <td>False</td>\n",
              "      <td>False</td>\n",
              "      <td>False</td>\n",
              "      <td>False</td>\n",
              "      <td>False</td>\n",
              "      <td>False</td>\n",
              "      <td>False</td>\n",
              "      <td>False</td>\n",
              "      <td>False</td>\n",
              "      <td>False</td>\n",
              "      <td>False</td>\n",
              "      <td>False</td>\n",
              "      <td>False</td>\n",
              "      <td>False</td>\n",
              "      <td>False</td>\n",
              "      <td>False</td>\n",
              "      <td>False</td>\n",
              "      <td>False</td>\n",
              "      <td>False</td>\n",
              "    </tr>\n",
              "    <tr>\n",
              "      <th>2</th>\n",
              "      <td>False</td>\n",
              "      <td>False</td>\n",
              "      <td>False</td>\n",
              "      <td>False</td>\n",
              "      <td>False</td>\n",
              "      <td>False</td>\n",
              "      <td>False</td>\n",
              "      <td>False</td>\n",
              "      <td>False</td>\n",
              "      <td>False</td>\n",
              "      <td>False</td>\n",
              "      <td>False</td>\n",
              "      <td>False</td>\n",
              "      <td>False</td>\n",
              "      <td>False</td>\n",
              "      <td>False</td>\n",
              "      <td>False</td>\n",
              "      <td>False</td>\n",
              "      <td>False</td>\n",
              "      <td>False</td>\n",
              "      <td>False</td>\n",
              "      <td>False</td>\n",
              "      <td>False</td>\n",
              "    </tr>\n",
              "    <tr>\n",
              "      <th>3</th>\n",
              "      <td>False</td>\n",
              "      <td>False</td>\n",
              "      <td>False</td>\n",
              "      <td>False</td>\n",
              "      <td>False</td>\n",
              "      <td>False</td>\n",
              "      <td>False</td>\n",
              "      <td>False</td>\n",
              "      <td>False</td>\n",
              "      <td>False</td>\n",
              "      <td>False</td>\n",
              "      <td>False</td>\n",
              "      <td>False</td>\n",
              "      <td>False</td>\n",
              "      <td>True</td>\n",
              "      <td>False</td>\n",
              "      <td>True</td>\n",
              "      <td>False</td>\n",
              "      <td>False</td>\n",
              "      <td>False</td>\n",
              "      <td>False</td>\n",
              "      <td>False</td>\n",
              "      <td>False</td>\n",
              "    </tr>\n",
              "    <tr>\n",
              "      <th>4</th>\n",
              "      <td>False</td>\n",
              "      <td>False</td>\n",
              "      <td>False</td>\n",
              "      <td>False</td>\n",
              "      <td>False</td>\n",
              "      <td>False</td>\n",
              "      <td>False</td>\n",
              "      <td>False</td>\n",
              "      <td>False</td>\n",
              "      <td>False</td>\n",
              "      <td>False</td>\n",
              "      <td>False</td>\n",
              "      <td>False</td>\n",
              "      <td>False</td>\n",
              "      <td>False</td>\n",
              "      <td>False</td>\n",
              "      <td>False</td>\n",
              "      <td>False</td>\n",
              "      <td>False</td>\n",
              "      <td>False</td>\n",
              "      <td>False</td>\n",
              "      <td>False</td>\n",
              "      <td>False</td>\n",
              "    </tr>\n",
              "    <tr>\n",
              "      <th>...</th>\n",
              "      <td>...</td>\n",
              "      <td>...</td>\n",
              "      <td>...</td>\n",
              "      <td>...</td>\n",
              "      <td>...</td>\n",
              "      <td>...</td>\n",
              "      <td>...</td>\n",
              "      <td>...</td>\n",
              "      <td>...</td>\n",
              "      <td>...</td>\n",
              "      <td>...</td>\n",
              "      <td>...</td>\n",
              "      <td>...</td>\n",
              "      <td>...</td>\n",
              "      <td>...</td>\n",
              "      <td>...</td>\n",
              "      <td>...</td>\n",
              "      <td>...</td>\n",
              "      <td>...</td>\n",
              "      <td>...</td>\n",
              "      <td>...</td>\n",
              "      <td>...</td>\n",
              "      <td>...</td>\n",
              "    </tr>\n",
              "    <tr>\n",
              "      <th>538</th>\n",
              "      <td>False</td>\n",
              "      <td>False</td>\n",
              "      <td>False</td>\n",
              "      <td>False</td>\n",
              "      <td>False</td>\n",
              "      <td>False</td>\n",
              "      <td>False</td>\n",
              "      <td>False</td>\n",
              "      <td>False</td>\n",
              "      <td>False</td>\n",
              "      <td>False</td>\n",
              "      <td>False</td>\n",
              "      <td>False</td>\n",
              "      <td>False</td>\n",
              "      <td>True</td>\n",
              "      <td>False</td>\n",
              "      <td>True</td>\n",
              "      <td>False</td>\n",
              "      <td>False</td>\n",
              "      <td>False</td>\n",
              "      <td>False</td>\n",
              "      <td>False</td>\n",
              "      <td>False</td>\n",
              "    </tr>\n",
              "    <tr>\n",
              "      <th>539</th>\n",
              "      <td>False</td>\n",
              "      <td>False</td>\n",
              "      <td>False</td>\n",
              "      <td>False</td>\n",
              "      <td>False</td>\n",
              "      <td>False</td>\n",
              "      <td>False</td>\n",
              "      <td>False</td>\n",
              "      <td>False</td>\n",
              "      <td>False</td>\n",
              "      <td>False</td>\n",
              "      <td>False</td>\n",
              "      <td>False</td>\n",
              "      <td>False</td>\n",
              "      <td>False</td>\n",
              "      <td>False</td>\n",
              "      <td>False</td>\n",
              "      <td>False</td>\n",
              "      <td>False</td>\n",
              "      <td>False</td>\n",
              "      <td>False</td>\n",
              "      <td>False</td>\n",
              "      <td>False</td>\n",
              "    </tr>\n",
              "    <tr>\n",
              "      <th>540</th>\n",
              "      <td>False</td>\n",
              "      <td>False</td>\n",
              "      <td>False</td>\n",
              "      <td>False</td>\n",
              "      <td>False</td>\n",
              "      <td>False</td>\n",
              "      <td>False</td>\n",
              "      <td>False</td>\n",
              "      <td>False</td>\n",
              "      <td>False</td>\n",
              "      <td>False</td>\n",
              "      <td>False</td>\n",
              "      <td>False</td>\n",
              "      <td>False</td>\n",
              "      <td>False</td>\n",
              "      <td>False</td>\n",
              "      <td>False</td>\n",
              "      <td>False</td>\n",
              "      <td>False</td>\n",
              "      <td>False</td>\n",
              "      <td>False</td>\n",
              "      <td>False</td>\n",
              "      <td>False</td>\n",
              "    </tr>\n",
              "    <tr>\n",
              "      <th>541</th>\n",
              "      <td>False</td>\n",
              "      <td>False</td>\n",
              "      <td>False</td>\n",
              "      <td>False</td>\n",
              "      <td>False</td>\n",
              "      <td>False</td>\n",
              "      <td>False</td>\n",
              "      <td>False</td>\n",
              "      <td>False</td>\n",
              "      <td>False</td>\n",
              "      <td>False</td>\n",
              "      <td>False</td>\n",
              "      <td>False</td>\n",
              "      <td>False</td>\n",
              "      <td>False</td>\n",
              "      <td>False</td>\n",
              "      <td>False</td>\n",
              "      <td>False</td>\n",
              "      <td>False</td>\n",
              "      <td>False</td>\n",
              "      <td>False</td>\n",
              "      <td>False</td>\n",
              "      <td>False</td>\n",
              "    </tr>\n",
              "    <tr>\n",
              "      <th>542</th>\n",
              "      <td>False</td>\n",
              "      <td>False</td>\n",
              "      <td>False</td>\n",
              "      <td>False</td>\n",
              "      <td>False</td>\n",
              "      <td>False</td>\n",
              "      <td>False</td>\n",
              "      <td>False</td>\n",
              "      <td>False</td>\n",
              "      <td>False</td>\n",
              "      <td>False</td>\n",
              "      <td>False</td>\n",
              "      <td>False</td>\n",
              "      <td>False</td>\n",
              "      <td>False</td>\n",
              "      <td>False</td>\n",
              "      <td>False</td>\n",
              "      <td>False</td>\n",
              "      <td>False</td>\n",
              "      <td>False</td>\n",
              "      <td>False</td>\n",
              "      <td>False</td>\n",
              "      <td>False</td>\n",
              "    </tr>\n",
              "  </tbody>\n",
              "</table>\n",
              "<p>543 rows × 23 columns</p>\n",
              "</div>"
            ],
            "text/plain": [
              "     Sector_score  PARA_A  Score_A  Risk_A  ...  Risk_F  Score  Audit_Risk   Risk\n",
              "0           False   False    False   False  ...   False  False       False  False\n",
              "1           False    True    False    True  ...   False  False       False  False\n",
              "2           False   False    False   False  ...   False  False       False  False\n",
              "3           False   False    False   False  ...   False  False       False  False\n",
              "4           False   False    False   False  ...   False  False       False  False\n",
              "..            ...     ...      ...     ...  ...     ...    ...         ...    ...\n",
              "538         False   False    False   False  ...   False  False       False  False\n",
              "539         False   False    False   False  ...   False  False       False  False\n",
              "540         False   False    False   False  ...   False  False       False  False\n",
              "541         False   False    False   False  ...   False  False       False  False\n",
              "542         False   False    False   False  ...   False  False       False  False\n",
              "\n",
              "[543 rows x 23 columns]"
            ]
          },
          "metadata": {
            "tags": []
          },
          "execution_count": 25
        }
      ]
    },
    {
      "cell_type": "markdown",
      "metadata": {
        "id": "tANtZXYLtwuB"
      },
      "source": [
        "Below code will remove outliers based on calculated IQR Score"
      ]
    },
    {
      "cell_type": "code",
      "metadata": {
        "id": "fh3rjJVaxI9J",
        "outputId": "cbff1c88-a858-4f70-e2ca-a73233d1ed5d",
        "colab": {
          "base_uri": "https://localhost:8080/",
          "height": 34
        }
      },
      "source": [
        "df1_iqr = df1[~((df1 < (Q1 - 1.5 * IQR)) |(df1 > (Q3 + 1.5 * IQR))).any(axis=1)]\n",
        "df1_iqr.shape"
      ],
      "execution_count": 27,
      "outputs": [
        {
          "output_type": "execute_result",
          "data": {
            "text/plain": [
              "(325, 23)"
            ]
          },
          "metadata": {
            "tags": []
          },
          "execution_count": 27
        }
      ]
    },
    {
      "cell_type": "code",
      "metadata": {
        "id": "xbcBs9nuxJAv",
        "outputId": "3df0d7a4-5fd3-4a85-8b39-27d3cde70054",
        "colab": {
          "base_uri": "https://localhost:8080/",
          "height": 34
        }
      },
      "source": [
        "df1.shape   # orignal data shape"
      ],
      "execution_count": 28,
      "outputs": [
        {
          "output_type": "execute_result",
          "data": {
            "text/plain": [
              "(543, 23)"
            ]
          },
          "metadata": {
            "tags": []
          },
          "execution_count": 28
        }
      ]
    },
    {
      "cell_type": "markdown",
      "metadata": {
        "id": "yDpc5tZQuJ9-"
      },
      "source": [
        "Below code will remove outliers based on calculated Z-Score"
      ]
    },
    {
      "cell_type": "code",
      "metadata": {
        "id": "fBNkNFiJo01k"
      },
      "source": [
        "df2 = df1[(z < 3).all(axis=1)]"
      ],
      "execution_count": 29,
      "outputs": []
    },
    {
      "cell_type": "code",
      "metadata": {
        "id": "fieEiCA6o0zO",
        "outputId": "7c31f88d-e713-4417-a201-e106e1825b62",
        "colab": {
          "base_uri": "https://localhost:8080/",
          "height": 34
        }
      },
      "source": [
        "df2.shape"
      ],
      "execution_count": 30,
      "outputs": [
        {
          "output_type": "execute_result",
          "data": {
            "text/plain": [
              "(477, 23)"
            ]
          },
          "metadata": {
            "tags": []
          },
          "execution_count": 30
        }
      ]
    },
    {
      "cell_type": "code",
      "metadata": {
        "id": "f6ZtmL0CoTFG",
        "outputId": "dbe06258-05bf-4f72-cd22-86377a0145aa",
        "colab": {
          "base_uri": "https://localhost:8080/",
          "height": 224
        }
      },
      "source": [
        "df2.head()"
      ],
      "execution_count": 31,
      "outputs": [
        {
          "output_type": "execute_result",
          "data": {
            "text/html": [
              "<div>\n",
              "<style scoped>\n",
              "    .dataframe tbody tr th:only-of-type {\n",
              "        vertical-align: middle;\n",
              "    }\n",
              "\n",
              "    .dataframe tbody tr th {\n",
              "        vertical-align: top;\n",
              "    }\n",
              "\n",
              "    .dataframe thead th {\n",
              "        text-align: right;\n",
              "    }\n",
              "</style>\n",
              "<table border=\"1\" class=\"dataframe\">\n",
              "  <thead>\n",
              "    <tr style=\"text-align: right;\">\n",
              "      <th></th>\n",
              "      <th>Sector_score</th>\n",
              "      <th>PARA_A</th>\n",
              "      <th>Score_A</th>\n",
              "      <th>Risk_A</th>\n",
              "      <th>PARA_B</th>\n",
              "      <th>Score_B</th>\n",
              "      <th>Risk_B</th>\n",
              "      <th>TOTAL</th>\n",
              "      <th>numbers</th>\n",
              "      <th>Score_B.1</th>\n",
              "      <th>Risk_C</th>\n",
              "      <th>Money_Value</th>\n",
              "      <th>Score_MV</th>\n",
              "      <th>Risk_D</th>\n",
              "      <th>District_Loss</th>\n",
              "      <th>PROB</th>\n",
              "      <th>RiSk_E</th>\n",
              "      <th>History</th>\n",
              "      <th>Prob</th>\n",
              "      <th>Risk_F</th>\n",
              "      <th>Score</th>\n",
              "      <th>Audit_Risk</th>\n",
              "      <th>Risk</th>\n",
              "    </tr>\n",
              "  </thead>\n",
              "  <tbody>\n",
              "    <tr>\n",
              "      <th>0</th>\n",
              "      <td>2.72</td>\n",
              "      <td>1.13</td>\n",
              "      <td>0.4</td>\n",
              "      <td>0.452</td>\n",
              "      <td>0.00</td>\n",
              "      <td>0.2</td>\n",
              "      <td>0.000</td>\n",
              "      <td>1.13</td>\n",
              "      <td>5.0</td>\n",
              "      <td>0.2</td>\n",
              "      <td>1.0</td>\n",
              "      <td>0.00</td>\n",
              "      <td>0.2</td>\n",
              "      <td>0.000</td>\n",
              "      <td>2</td>\n",
              "      <td>0.2</td>\n",
              "      <td>0.4</td>\n",
              "      <td>0</td>\n",
              "      <td>0.2</td>\n",
              "      <td>0.0</td>\n",
              "      <td>2.2</td>\n",
              "      <td>0.3704</td>\n",
              "      <td>0</td>\n",
              "    </tr>\n",
              "    <tr>\n",
              "      <th>1</th>\n",
              "      <td>1.85</td>\n",
              "      <td>8.25</td>\n",
              "      <td>0.6</td>\n",
              "      <td>4.950</td>\n",
              "      <td>1.59</td>\n",
              "      <td>0.4</td>\n",
              "      <td>0.636</td>\n",
              "      <td>9.84</td>\n",
              "      <td>5.0</td>\n",
              "      <td>0.2</td>\n",
              "      <td>1.0</td>\n",
              "      <td>0.02</td>\n",
              "      <td>0.2</td>\n",
              "      <td>0.004</td>\n",
              "      <td>2</td>\n",
              "      <td>0.2</td>\n",
              "      <td>0.4</td>\n",
              "      <td>0</td>\n",
              "      <td>0.2</td>\n",
              "      <td>0.0</td>\n",
              "      <td>3.0</td>\n",
              "      <td>1.3980</td>\n",
              "      <td>1</td>\n",
              "    </tr>\n",
              "    <tr>\n",
              "      <th>2</th>\n",
              "      <td>2.72</td>\n",
              "      <td>2.13</td>\n",
              "      <td>0.6</td>\n",
              "      <td>1.278</td>\n",
              "      <td>0.59</td>\n",
              "      <td>0.2</td>\n",
              "      <td>0.118</td>\n",
              "      <td>2.72</td>\n",
              "      <td>5.0</td>\n",
              "      <td>0.2</td>\n",
              "      <td>1.0</td>\n",
              "      <td>0.76</td>\n",
              "      <td>0.2</td>\n",
              "      <td>0.152</td>\n",
              "      <td>2</td>\n",
              "      <td>0.2</td>\n",
              "      <td>0.4</td>\n",
              "      <td>0</td>\n",
              "      <td>0.2</td>\n",
              "      <td>0.0</td>\n",
              "      <td>2.4</td>\n",
              "      <td>0.5896</td>\n",
              "      <td>0</td>\n",
              "    </tr>\n",
              "    <tr>\n",
              "      <th>3</th>\n",
              "      <td>59.85</td>\n",
              "      <td>0.42</td>\n",
              "      <td>0.2</td>\n",
              "      <td>0.084</td>\n",
              "      <td>0.00</td>\n",
              "      <td>0.2</td>\n",
              "      <td>0.000</td>\n",
              "      <td>0.42</td>\n",
              "      <td>5.0</td>\n",
              "      <td>0.2</td>\n",
              "      <td>1.0</td>\n",
              "      <td>0.00</td>\n",
              "      <td>0.2</td>\n",
              "      <td>0.000</td>\n",
              "      <td>4</td>\n",
              "      <td>0.2</td>\n",
              "      <td>0.8</td>\n",
              "      <td>0</td>\n",
              "      <td>0.2</td>\n",
              "      <td>0.0</td>\n",
              "      <td>2.2</td>\n",
              "      <td>0.7536</td>\n",
              "      <td>0</td>\n",
              "    </tr>\n",
              "    <tr>\n",
              "      <th>4</th>\n",
              "      <td>2.72</td>\n",
              "      <td>1.33</td>\n",
              "      <td>0.4</td>\n",
              "      <td>0.532</td>\n",
              "      <td>0.35</td>\n",
              "      <td>0.2</td>\n",
              "      <td>0.070</td>\n",
              "      <td>1.68</td>\n",
              "      <td>5.0</td>\n",
              "      <td>0.2</td>\n",
              "      <td>1.0</td>\n",
              "      <td>0.00</td>\n",
              "      <td>0.2</td>\n",
              "      <td>0.000</td>\n",
              "      <td>2</td>\n",
              "      <td>0.2</td>\n",
              "      <td>0.4</td>\n",
              "      <td>0</td>\n",
              "      <td>0.2</td>\n",
              "      <td>0.0</td>\n",
              "      <td>2.2</td>\n",
              "      <td>0.4004</td>\n",
              "      <td>0</td>\n",
              "    </tr>\n",
              "  </tbody>\n",
              "</table>\n",
              "</div>"
            ],
            "text/plain": [
              "   Sector_score  PARA_A  Score_A  Risk_A  ...  Risk_F  Score  Audit_Risk  Risk\n",
              "0          2.72    1.13      0.4   0.452  ...     0.0    2.2      0.3704     0\n",
              "1          1.85    8.25      0.6   4.950  ...     0.0    3.0      1.3980     1\n",
              "2          2.72    2.13      0.6   1.278  ...     0.0    2.4      0.5896     0\n",
              "3         59.85    0.42      0.2   0.084  ...     0.0    2.2      0.7536     0\n",
              "4          2.72    1.33      0.4   0.532  ...     0.0    2.2      0.4004     0\n",
              "\n",
              "[5 rows x 23 columns]"
            ]
          },
          "metadata": {
            "tags": []
          },
          "execution_count": 31
        }
      ]
    },
    {
      "cell_type": "markdown",
      "metadata": {
        "id": "QWEfWVEHukPa"
      },
      "source": [
        "I am considering IQR data from here onwards"
      ]
    },
    {
      "cell_type": "code",
      "metadata": {
        "id": "X-XEJXeipbAg",
        "outputId": "81f36d6f-567e-472e-eb3a-88cb2797b863",
        "colab": {
          "base_uri": "https://localhost:8080/",
          "height": 224
        }
      },
      "source": [
        "df3 = df1_iqr.copy()\n",
        "df3.head()"
      ],
      "execution_count": 32,
      "outputs": [
        {
          "output_type": "execute_result",
          "data": {
            "text/html": [
              "<div>\n",
              "<style scoped>\n",
              "    .dataframe tbody tr th:only-of-type {\n",
              "        vertical-align: middle;\n",
              "    }\n",
              "\n",
              "    .dataframe tbody tr th {\n",
              "        vertical-align: top;\n",
              "    }\n",
              "\n",
              "    .dataframe thead th {\n",
              "        text-align: right;\n",
              "    }\n",
              "</style>\n",
              "<table border=\"1\" class=\"dataframe\">\n",
              "  <thead>\n",
              "    <tr style=\"text-align: right;\">\n",
              "      <th></th>\n",
              "      <th>Sector_score</th>\n",
              "      <th>PARA_A</th>\n",
              "      <th>Score_A</th>\n",
              "      <th>Risk_A</th>\n",
              "      <th>PARA_B</th>\n",
              "      <th>Score_B</th>\n",
              "      <th>Risk_B</th>\n",
              "      <th>TOTAL</th>\n",
              "      <th>numbers</th>\n",
              "      <th>Score_B.1</th>\n",
              "      <th>Risk_C</th>\n",
              "      <th>Money_Value</th>\n",
              "      <th>Score_MV</th>\n",
              "      <th>Risk_D</th>\n",
              "      <th>District_Loss</th>\n",
              "      <th>PROB</th>\n",
              "      <th>RiSk_E</th>\n",
              "      <th>History</th>\n",
              "      <th>Prob</th>\n",
              "      <th>Risk_F</th>\n",
              "      <th>Score</th>\n",
              "      <th>Audit_Risk</th>\n",
              "      <th>Risk</th>\n",
              "    </tr>\n",
              "  </thead>\n",
              "  <tbody>\n",
              "    <tr>\n",
              "      <th>0</th>\n",
              "      <td>2.72</td>\n",
              "      <td>1.13</td>\n",
              "      <td>0.4</td>\n",
              "      <td>0.452</td>\n",
              "      <td>0.0000</td>\n",
              "      <td>0.2</td>\n",
              "      <td>0.0000</td>\n",
              "      <td>1.1300</td>\n",
              "      <td>5.0</td>\n",
              "      <td>0.2</td>\n",
              "      <td>1.0</td>\n",
              "      <td>0.00</td>\n",
              "      <td>0.2</td>\n",
              "      <td>0.000</td>\n",
              "      <td>2</td>\n",
              "      <td>0.2</td>\n",
              "      <td>0.4</td>\n",
              "      <td>0</td>\n",
              "      <td>0.2</td>\n",
              "      <td>0.0</td>\n",
              "      <td>2.2</td>\n",
              "      <td>0.3704</td>\n",
              "      <td>0</td>\n",
              "    </tr>\n",
              "    <tr>\n",
              "      <th>2</th>\n",
              "      <td>2.72</td>\n",
              "      <td>2.13</td>\n",
              "      <td>0.6</td>\n",
              "      <td>1.278</td>\n",
              "      <td>0.5900</td>\n",
              "      <td>0.2</td>\n",
              "      <td>0.1180</td>\n",
              "      <td>2.7200</td>\n",
              "      <td>5.0</td>\n",
              "      <td>0.2</td>\n",
              "      <td>1.0</td>\n",
              "      <td>0.76</td>\n",
              "      <td>0.2</td>\n",
              "      <td>0.152</td>\n",
              "      <td>2</td>\n",
              "      <td>0.2</td>\n",
              "      <td>0.4</td>\n",
              "      <td>0</td>\n",
              "      <td>0.2</td>\n",
              "      <td>0.0</td>\n",
              "      <td>2.4</td>\n",
              "      <td>0.5896</td>\n",
              "      <td>0</td>\n",
              "    </tr>\n",
              "    <tr>\n",
              "      <th>4</th>\n",
              "      <td>2.72</td>\n",
              "      <td>1.33</td>\n",
              "      <td>0.4</td>\n",
              "      <td>0.532</td>\n",
              "      <td>0.3500</td>\n",
              "      <td>0.2</td>\n",
              "      <td>0.0700</td>\n",
              "      <td>1.6800</td>\n",
              "      <td>5.0</td>\n",
              "      <td>0.2</td>\n",
              "      <td>1.0</td>\n",
              "      <td>0.00</td>\n",
              "      <td>0.2</td>\n",
              "      <td>0.000</td>\n",
              "      <td>2</td>\n",
              "      <td>0.2</td>\n",
              "      <td>0.4</td>\n",
              "      <td>0</td>\n",
              "      <td>0.2</td>\n",
              "      <td>0.0</td>\n",
              "      <td>2.2</td>\n",
              "      <td>0.4004</td>\n",
              "      <td>0</td>\n",
              "    </tr>\n",
              "    <tr>\n",
              "      <th>5</th>\n",
              "      <td>21.61</td>\n",
              "      <td>0.59</td>\n",
              "      <td>0.2</td>\n",
              "      <td>0.118</td>\n",
              "      <td>0.6900</td>\n",
              "      <td>0.2</td>\n",
              "      <td>0.1380</td>\n",
              "      <td>1.2800</td>\n",
              "      <td>5.0</td>\n",
              "      <td>0.2</td>\n",
              "      <td>1.0</td>\n",
              "      <td>0.00</td>\n",
              "      <td>0.2</td>\n",
              "      <td>0.000</td>\n",
              "      <td>2</td>\n",
              "      <td>0.2</td>\n",
              "      <td>0.4</td>\n",
              "      <td>0</td>\n",
              "      <td>0.2</td>\n",
              "      <td>0.0</td>\n",
              "      <td>2.0</td>\n",
              "      <td>0.3312</td>\n",
              "      <td>0</td>\n",
              "    </tr>\n",
              "    <tr>\n",
              "      <th>6</th>\n",
              "      <td>55.57</td>\n",
              "      <td>0.40</td>\n",
              "      <td>0.2</td>\n",
              "      <td>0.080</td>\n",
              "      <td>0.0025</td>\n",
              "      <td>0.2</td>\n",
              "      <td>0.0005</td>\n",
              "      <td>0.4025</td>\n",
              "      <td>5.0</td>\n",
              "      <td>0.2</td>\n",
              "      <td>1.0</td>\n",
              "      <td>0.00</td>\n",
              "      <td>0.2</td>\n",
              "      <td>0.000</td>\n",
              "      <td>2</td>\n",
              "      <td>0.2</td>\n",
              "      <td>0.4</td>\n",
              "      <td>0</td>\n",
              "      <td>0.2</td>\n",
              "      <td>0.0</td>\n",
              "      <td>2.0</td>\n",
              "      <td>0.2961</td>\n",
              "      <td>0</td>\n",
              "    </tr>\n",
              "  </tbody>\n",
              "</table>\n",
              "</div>"
            ],
            "text/plain": [
              "   Sector_score  PARA_A  Score_A  Risk_A  ...  Risk_F  Score  Audit_Risk  Risk\n",
              "0          2.72    1.13      0.4   0.452  ...     0.0    2.2      0.3704     0\n",
              "2          2.72    2.13      0.6   1.278  ...     0.0    2.4      0.5896     0\n",
              "4          2.72    1.33      0.4   0.532  ...     0.0    2.2      0.4004     0\n",
              "5         21.61    0.59      0.2   0.118  ...     0.0    2.0      0.3312     0\n",
              "6         55.57    0.40      0.2   0.080  ...     0.0    2.0      0.2961     0\n",
              "\n",
              "[5 rows x 23 columns]"
            ]
          },
          "metadata": {
            "tags": []
          },
          "execution_count": 32
        }
      ]
    },
    {
      "cell_type": "code",
      "metadata": {
        "id": "XQGrNQDQq8FM",
        "outputId": "c4fd88ff-0d65-4a05-ef11-c98813beffa7",
        "colab": {
          "base_uri": "https://localhost:8080/",
          "height": 102
        }
      },
      "source": [
        "df3.columns"
      ],
      "execution_count": 33,
      "outputs": [
        {
          "output_type": "execute_result",
          "data": {
            "text/plain": [
              "Index(['Sector_score', 'PARA_A', 'Score_A', 'Risk_A', 'PARA_B', 'Score_B',\n",
              "       'Risk_B', 'TOTAL', 'numbers', 'Score_B.1', 'Risk_C', 'Money_Value',\n",
              "       'Score_MV', 'Risk_D', 'District_Loss', 'PROB', 'RiSk_E', 'History',\n",
              "       'Prob', 'Risk_F', 'Score', 'Audit_Risk', 'Risk'],\n",
              "      dtype='object')"
            ]
          },
          "metadata": {
            "tags": []
          },
          "execution_count": 33
        }
      ]
    },
    {
      "cell_type": "code",
      "metadata": {
        "id": "wfr8xKgFpbDU"
      },
      "source": [
        "#Normalization \n",
        "from sklearn.preprocessing import MinMaxScaler\n",
        "\n",
        "norm = MinMaxScaler().fit(df3)\n",
        "\n",
        "# transform training data\n",
        "df3_norm = norm.transform(df3)"
      ],
      "execution_count": 34,
      "outputs": []
    },
    {
      "cell_type": "code",
      "metadata": {
        "id": "u1_0UH26pbOM",
        "outputId": "69ffba1f-286c-46cd-b452-7accce2ac6b0",
        "colab": {
          "base_uri": "https://localhost:8080/",
          "height": 34
        }
      },
      "source": [
        "df3_norm.shape"
      ],
      "execution_count": 35,
      "outputs": [
        {
          "output_type": "execute_result",
          "data": {
            "text/plain": [
              "(325, 23)"
            ]
          },
          "metadata": {
            "tags": []
          },
          "execution_count": 35
        }
      ]
    },
    {
      "cell_type": "code",
      "metadata": {
        "id": "MlXvn9cbpbT3",
        "outputId": "98fdcbc4-4226-4897-ee59-2366d0824d06",
        "colab": {
          "base_uri": "https://localhost:8080/",
          "height": 224
        }
      },
      "source": [
        "train = pd.DataFrame(df3_norm, columns= ['Sector_score', 'PARA_A', 'Score_A', 'Risk_A', 'PARA_B', 'Score_B',\n",
        "       'Risk_B', 'TOTAL', 'numbers', 'Score_B.1', 'Risk_C', 'Money_Value',\n",
        "       'Score_MV', 'Risk_D', 'District_Loss', 'PROB', 'RiSk_E', 'History',\n",
        "       'Prob', 'Risk_F', 'Score', 'Audit_Risk', 'Risk'])\n",
        "train.head()"
      ],
      "execution_count": 36,
      "outputs": [
        {
          "output_type": "execute_result",
          "data": {
            "text/html": [
              "<div>\n",
              "<style scoped>\n",
              "    .dataframe tbody tr th:only-of-type {\n",
              "        vertical-align: middle;\n",
              "    }\n",
              "\n",
              "    .dataframe tbody tr th {\n",
              "        vertical-align: top;\n",
              "    }\n",
              "\n",
              "    .dataframe thead th {\n",
              "        text-align: right;\n",
              "    }\n",
              "</style>\n",
              "<table border=\"1\" class=\"dataframe\">\n",
              "  <thead>\n",
              "    <tr style=\"text-align: right;\">\n",
              "      <th></th>\n",
              "      <th>Sector_score</th>\n",
              "      <th>PARA_A</th>\n",
              "      <th>Score_A</th>\n",
              "      <th>Risk_A</th>\n",
              "      <th>PARA_B</th>\n",
              "      <th>Score_B</th>\n",
              "      <th>Risk_B</th>\n",
              "      <th>TOTAL</th>\n",
              "      <th>numbers</th>\n",
              "      <th>Score_B.1</th>\n",
              "      <th>Risk_C</th>\n",
              "      <th>Money_Value</th>\n",
              "      <th>Score_MV</th>\n",
              "      <th>Risk_D</th>\n",
              "      <th>District_Loss</th>\n",
              "      <th>PROB</th>\n",
              "      <th>RiSk_E</th>\n",
              "      <th>History</th>\n",
              "      <th>Prob</th>\n",
              "      <th>Risk_F</th>\n",
              "      <th>Score</th>\n",
              "      <th>Audit_Risk</th>\n",
              "      <th>Risk</th>\n",
              "    </tr>\n",
              "  </thead>\n",
              "  <tbody>\n",
              "    <tr>\n",
              "      <th>0</th>\n",
              "      <td>0.015000</td>\n",
              "      <td>0.217308</td>\n",
              "      <td>0.5</td>\n",
              "      <td>0.144872</td>\n",
              "      <td>0.000000</td>\n",
              "      <td>0.0</td>\n",
              "      <td>0.000000</td>\n",
              "      <td>0.078039</td>\n",
              "      <td>0.0</td>\n",
              "      <td>0.0</td>\n",
              "      <td>0.0</td>\n",
              "      <td>0.000000</td>\n",
              "      <td>0.0</td>\n",
              "      <td>0.000000</td>\n",
              "      <td>0.0</td>\n",
              "      <td>0.0</td>\n",
              "      <td>0.0</td>\n",
              "      <td>0.0</td>\n",
              "      <td>0.0</td>\n",
              "      <td>0.0</td>\n",
              "      <td>0.111111</td>\n",
              "      <td>0.056613</td>\n",
              "      <td>0.0</td>\n",
              "    </tr>\n",
              "    <tr>\n",
              "      <th>1</th>\n",
              "      <td>0.015000</td>\n",
              "      <td>0.409615</td>\n",
              "      <td>1.0</td>\n",
              "      <td>0.409615</td>\n",
              "      <td>0.054378</td>\n",
              "      <td>0.0</td>\n",
              "      <td>0.023165</td>\n",
              "      <td>0.187845</td>\n",
              "      <td>0.0</td>\n",
              "      <td>0.0</td>\n",
              "      <td>0.0</td>\n",
              "      <td>0.080423</td>\n",
              "      <td>0.0</td>\n",
              "      <td>0.040212</td>\n",
              "      <td>0.0</td>\n",
              "      <td>0.0</td>\n",
              "      <td>0.0</td>\n",
              "      <td>0.0</td>\n",
              "      <td>0.0</td>\n",
              "      <td>0.0</td>\n",
              "      <td>0.222222</td>\n",
              "      <td>0.193888</td>\n",
              "      <td>0.0</td>\n",
              "    </tr>\n",
              "    <tr>\n",
              "      <th>2</th>\n",
              "      <td>0.015000</td>\n",
              "      <td>0.255769</td>\n",
              "      <td>0.5</td>\n",
              "      <td>0.170513</td>\n",
              "      <td>0.032258</td>\n",
              "      <td>0.0</td>\n",
              "      <td>0.013742</td>\n",
              "      <td>0.116022</td>\n",
              "      <td>0.0</td>\n",
              "      <td>0.0</td>\n",
              "      <td>0.0</td>\n",
              "      <td>0.000000</td>\n",
              "      <td>0.0</td>\n",
              "      <td>0.000000</td>\n",
              "      <td>0.0</td>\n",
              "      <td>0.0</td>\n",
              "      <td>0.0</td>\n",
              "      <td>0.0</td>\n",
              "      <td>0.0</td>\n",
              "      <td>0.0</td>\n",
              "      <td>0.111111</td>\n",
              "      <td>0.075401</td>\n",
              "      <td>0.0</td>\n",
              "    </tr>\n",
              "    <tr>\n",
              "      <th>3</th>\n",
              "      <td>0.340690</td>\n",
              "      <td>0.113462</td>\n",
              "      <td>0.0</td>\n",
              "      <td>0.037821</td>\n",
              "      <td>0.063594</td>\n",
              "      <td>0.0</td>\n",
              "      <td>0.027091</td>\n",
              "      <td>0.088398</td>\n",
              "      <td>0.0</td>\n",
              "      <td>0.0</td>\n",
              "      <td>0.0</td>\n",
              "      <td>0.000000</td>\n",
              "      <td>0.0</td>\n",
              "      <td>0.000000</td>\n",
              "      <td>0.0</td>\n",
              "      <td>0.0</td>\n",
              "      <td>0.0</td>\n",
              "      <td>0.0</td>\n",
              "      <td>0.0</td>\n",
              "      <td>0.0</td>\n",
              "      <td>0.000000</td>\n",
              "      <td>0.032064</td>\n",
              "      <td>0.0</td>\n",
              "    </tr>\n",
              "    <tr>\n",
              "      <th>4</th>\n",
              "      <td>0.926207</td>\n",
              "      <td>0.076923</td>\n",
              "      <td>0.0</td>\n",
              "      <td>0.025641</td>\n",
              "      <td>0.000230</td>\n",
              "      <td>0.0</td>\n",
              "      <td>0.000098</td>\n",
              "      <td>0.027797</td>\n",
              "      <td>0.0</td>\n",
              "      <td>0.0</td>\n",
              "      <td>0.0</td>\n",
              "      <td>0.000000</td>\n",
              "      <td>0.0</td>\n",
              "      <td>0.000000</td>\n",
              "      <td>0.0</td>\n",
              "      <td>0.0</td>\n",
              "      <td>0.0</td>\n",
              "      <td>0.0</td>\n",
              "      <td>0.0</td>\n",
              "      <td>0.0</td>\n",
              "      <td>0.000000</td>\n",
              "      <td>0.010083</td>\n",
              "      <td>0.0</td>\n",
              "    </tr>\n",
              "  </tbody>\n",
              "</table>\n",
              "</div>"
            ],
            "text/plain": [
              "   Sector_score    PARA_A  Score_A  ...     Score  Audit_Risk  Risk\n",
              "0      0.015000  0.217308      0.5  ...  0.111111    0.056613   0.0\n",
              "1      0.015000  0.409615      1.0  ...  0.222222    0.193888   0.0\n",
              "2      0.015000  0.255769      0.5  ...  0.111111    0.075401   0.0\n",
              "3      0.340690  0.113462      0.0  ...  0.000000    0.032064   0.0\n",
              "4      0.926207  0.076923      0.0  ...  0.000000    0.010083   0.0\n",
              "\n",
              "[5 rows x 23 columns]"
            ]
          },
          "metadata": {
            "tags": []
          },
          "execution_count": 36
        }
      ]
    },
    {
      "cell_type": "code",
      "metadata": {
        "id": "M_l3kczgpbRy"
      },
      "source": [
        "X=train.drop(['Risk'],axis=1)\n",
        "y=train['Risk'].astype(int)"
      ],
      "execution_count": 144,
      "outputs": []
    },
    {
      "cell_type": "code",
      "metadata": {
        "id": "DcaFpxVxK1dW",
        "outputId": "493c557f-023e-49cd-bc28-24d5e721b9e5",
        "colab": {
          "base_uri": "https://localhost:8080/",
          "height": 221
        }
      },
      "source": [
        "y"
      ],
      "execution_count": 145,
      "outputs": [
        {
          "output_type": "execute_result",
          "data": {
            "text/plain": [
              "0      0\n",
              "1      0\n",
              "2      0\n",
              "3      0\n",
              "4      0\n",
              "      ..\n",
              "320    0\n",
              "321    0\n",
              "322    0\n",
              "323    0\n",
              "324    0\n",
              "Name: Risk, Length: 325, dtype: int64"
            ]
          },
          "metadata": {
            "tags": []
          },
          "execution_count": 145
        }
      ]
    },
    {
      "cell_type": "code",
      "metadata": {
        "id": "Tpl-5GY6pbMw"
      },
      "source": [
        "# import train_test_split\n",
        "from sklearn.model_selection import train_test_split\n",
        "\n",
        "# split the data\n",
        "X_train, X_test, y_train, y_test = train_test_split(X,y,test_size=0.2, random_state = 42)"
      ],
      "execution_count": 146,
      "outputs": []
    },
    {
      "cell_type": "code",
      "metadata": {
        "id": "Fld7FFAlpbKi",
        "outputId": "43eb20f1-9e4e-4396-a0c4-66c8edbf23cc",
        "colab": {
          "base_uri": "https://localhost:8080/",
          "height": 102
        }
      },
      "source": [
        "# import Logistic Regression from sklearn.linear_model\n",
        "\n",
        "from sklearn.linear_model import LogisticRegression\n",
        "log_model = LogisticRegression()\n",
        "log_model.fit(X_train, y_train)"
      ],
      "execution_count": 147,
      "outputs": [
        {
          "output_type": "execute_result",
          "data": {
            "text/plain": [
              "LogisticRegression(C=1.0, class_weight=None, dual=False, fit_intercept=True,\n",
              "                   intercept_scaling=1, l1_ratio=None, max_iter=100,\n",
              "                   multi_class='auto', n_jobs=None, penalty='l2',\n",
              "                   random_state=None, solver='lbfgs', tol=0.0001, verbose=0,\n",
              "                   warm_start=False)"
            ]
          },
          "metadata": {
            "tags": []
          },
          "execution_count": 147
        }
      ]
    },
    {
      "cell_type": "code",
      "metadata": {
        "id": "XR2K5qUnpbH6"
      },
      "source": [
        "predictions = log_model.predict(X_test)"
      ],
      "execution_count": 148,
      "outputs": []
    },
    {
      "cell_type": "code",
      "metadata": {
        "id": "QpFz04kesjT0",
        "outputId": "2b3f8592-514d-4c11-dd4c-bd1df4a4926d",
        "colab": {
          "base_uri": "https://localhost:8080/",
          "height": 34
        }
      },
      "source": [
        "from sklearn.metrics import f1_score\n",
        "print(\"F1 Score: \",f1_score(y_test, predictions))"
      ],
      "execution_count": 149,
      "outputs": [
        {
          "output_type": "stream",
          "text": [
            "F1 Score:  1.0\n"
          ],
          "name": "stdout"
        }
      ]
    },
    {
      "cell_type": "code",
      "metadata": {
        "id": "_xnRwXKDsjZy",
        "outputId": "b8e5bb23-93a3-4165-d39f-66f34f2d7572",
        "colab": {
          "base_uri": "https://localhost:8080/",
          "height": 153
        }
      },
      "source": [
        "from sklearn.ensemble import RandomForestClassifier\n",
        "\n",
        "rfc = RandomForestClassifier()\n",
        "rfc.fit(X_train, y_train)"
      ],
      "execution_count": 42,
      "outputs": [
        {
          "output_type": "execute_result",
          "data": {
            "text/plain": [
              "RandomForestClassifier(bootstrap=True, ccp_alpha=0.0, class_weight=None,\n",
              "                       criterion='gini', max_depth=None, max_features='auto',\n",
              "                       max_leaf_nodes=None, max_samples=None,\n",
              "                       min_impurity_decrease=0.0, min_impurity_split=None,\n",
              "                       min_samples_leaf=1, min_samples_split=2,\n",
              "                       min_weight_fraction_leaf=0.0, n_estimators=100,\n",
              "                       n_jobs=None, oob_score=False, random_state=None,\n",
              "                       verbose=0, warm_start=False)"
            ]
          },
          "metadata": {
            "tags": []
          },
          "execution_count": 42
        }
      ]
    },
    {
      "cell_type": "code",
      "metadata": {
        "id": "9k-Jgw_WsjXD"
      },
      "source": [
        "predictions1 = rfc.predict(X_test)"
      ],
      "execution_count": 43,
      "outputs": []
    },
    {
      "cell_type": "code",
      "metadata": {
        "id": "dT4WCoVvtq9d",
        "outputId": "b57f7ddf-38cd-4eae-b308-7665434fd7be",
        "colab": {
          "base_uri": "https://localhost:8080/",
          "height": 34
        }
      },
      "source": [
        "from sklearn.metrics import f1_score\n",
        "print(\"F1 Score: \",f1_score(y_test, predictions1))"
      ],
      "execution_count": 44,
      "outputs": [
        {
          "output_type": "stream",
          "text": [
            "F1 Score:  1.0\n"
          ],
          "name": "stdout"
        }
      ]
    },
    {
      "cell_type": "code",
      "metadata": {
        "id": "APwfkYNBtrAd",
        "outputId": "a65848b5-2f5f-4182-fbb8-80068c253cab",
        "colab": {
          "base_uri": "https://localhost:8080/",
          "height": 384
        }
      },
      "source": [
        "sns.distplot(y_test - predictions)"
      ],
      "execution_count": 46,
      "outputs": [
        {
          "output_type": "stream",
          "text": [
            "/usr/local/lib/python3.6/dist-packages/seaborn/distributions.py:2551: FutureWarning: `distplot` is a deprecated function and will be removed in a future version. Please adapt your code to use either `displot` (a figure-level function with similar flexibility) or `histplot` (an axes-level function for histograms).\n",
            "  warnings.warn(msg, FutureWarning)\n",
            "/usr/local/lib/python3.6/dist-packages/seaborn/distributions.py:305: UserWarning: Dataset has 0 variance; skipping density estimate.\n",
            "  warnings.warn(msg, UserWarning)\n"
          ],
          "name": "stderr"
        },
        {
          "output_type": "execute_result",
          "data": {
            "text/plain": [
              "<matplotlib.axes._subplots.AxesSubplot at 0x7fad937cd7b8>"
            ]
          },
          "metadata": {
            "tags": []
          },
          "execution_count": 46
        },
        {
          "output_type": "display_data",
          "data": {
            "image/png": "[encoded data removed]",
            "text/plain": [
              "<Figure size 432x288 with 1 Axes>"
            ]
          },
          "metadata": {
            "tags": []
          }
        }
      ]
    },
    {
      "cell_type": "code",
      "metadata": {
        "id": "82vgdnHgtrID",
        "outputId": "2cb36d18-4fbe-4b43-b5c8-f35edb3f88c6",
        "colab": {
          "base_uri": "https://localhost:8080/",
          "height": 224
        }
      },
      "source": [
        "test_data = pd.read_csv('https://raw.githubusercontent.com/dphi-official/Datasets/master/audit_data/testing_set_label.csv')\n",
        "test_data.head()"
      ],
      "execution_count": 68,
      "outputs": [
        {
          "output_type": "execute_result",
          "data": {
            "text/html": [
              "<div>\n",
              "<style scoped>\n",
              "    .dataframe tbody tr th:only-of-type {\n",
              "        vertical-align: middle;\n",
              "    }\n",
              "\n",
              "    .dataframe tbody tr th {\n",
              "        vertical-align: top;\n",
              "    }\n",
              "\n",
              "    .dataframe thead th {\n",
              "        text-align: right;\n",
              "    }\n",
              "</style>\n",
              "<table border=\"1\" class=\"dataframe\">\n",
              "  <thead>\n",
              "    <tr style=\"text-align: right;\">\n",
              "      <th></th>\n",
              "      <th>Sector_score</th>\n",
              "      <th>LOCATION_ID</th>\n",
              "      <th>PARA_A</th>\n",
              "      <th>Score_A</th>\n",
              "      <th>Risk_A</th>\n",
              "      <th>PARA_B</th>\n",
              "      <th>Score_B</th>\n",
              "      <th>Risk_B</th>\n",
              "      <th>TOTAL</th>\n",
              "      <th>numbers</th>\n",
              "      <th>Score_B.1</th>\n",
              "      <th>Risk_C</th>\n",
              "      <th>Money_Value</th>\n",
              "      <th>Score_MV</th>\n",
              "      <th>Risk_D</th>\n",
              "      <th>District_Loss</th>\n",
              "      <th>PROB</th>\n",
              "      <th>RiSk_E</th>\n",
              "      <th>History</th>\n",
              "      <th>Prob</th>\n",
              "      <th>Risk_F</th>\n",
              "      <th>Score</th>\n",
              "      <th>Inherent_Risk</th>\n",
              "      <th>CONTROL_RISK</th>\n",
              "      <th>Detection_Risk</th>\n",
              "      <th>Audit_Risk</th>\n",
              "    </tr>\n",
              "  </thead>\n",
              "  <tbody>\n",
              "    <tr>\n",
              "      <th>0</th>\n",
              "      <td>3.89</td>\n",
              "      <td>22</td>\n",
              "      <td>0.00</td>\n",
              "      <td>0.2</td>\n",
              "      <td>0.000</td>\n",
              "      <td>18.05</td>\n",
              "      <td>0.6</td>\n",
              "      <td>10.830</td>\n",
              "      <td>18.05</td>\n",
              "      <td>5.0</td>\n",
              "      <td>0.2</td>\n",
              "      <td>1.0</td>\n",
              "      <td>2.29</td>\n",
              "      <td>0.2</td>\n",
              "      <td>0.458</td>\n",
              "      <td>2</td>\n",
              "      <td>0.2</td>\n",
              "      <td>0.4</td>\n",
              "      <td>0</td>\n",
              "      <td>0.2</td>\n",
              "      <td>0.0</td>\n",
              "      <td>3.2</td>\n",
              "      <td>12.688</td>\n",
              "      <td>0.4</td>\n",
              "      <td>0.5</td>\n",
              "      <td>2.5376</td>\n",
              "    </tr>\n",
              "    <tr>\n",
              "      <th>1</th>\n",
              "      <td>55.57</td>\n",
              "      <td>29</td>\n",
              "      <td>1.26</td>\n",
              "      <td>0.4</td>\n",
              "      <td>0.504</td>\n",
              "      <td>1.58</td>\n",
              "      <td>0.4</td>\n",
              "      <td>0.632</td>\n",
              "      <td>2.84</td>\n",
              "      <td>5.0</td>\n",
              "      <td>0.2</td>\n",
              "      <td>1.0</td>\n",
              "      <td>6.50</td>\n",
              "      <td>0.4</td>\n",
              "      <td>2.600</td>\n",
              "      <td>2</td>\n",
              "      <td>0.2</td>\n",
              "      <td>0.4</td>\n",
              "      <td>0</td>\n",
              "      <td>0.2</td>\n",
              "      <td>0.0</td>\n",
              "      <td>3.0</td>\n",
              "      <td>5.136</td>\n",
              "      <td>0.4</td>\n",
              "      <td>0.5</td>\n",
              "      <td>1.0272</td>\n",
              "    </tr>\n",
              "    <tr>\n",
              "      <th>2</th>\n",
              "      <td>2.72</td>\n",
              "      <td>16</td>\n",
              "      <td>0.00</td>\n",
              "      <td>0.2</td>\n",
              "      <td>0.000</td>\n",
              "      <td>0.00</td>\n",
              "      <td>0.2</td>\n",
              "      <td>0.000</td>\n",
              "      <td>0.00</td>\n",
              "      <td>5.0</td>\n",
              "      <td>0.2</td>\n",
              "      <td>1.0</td>\n",
              "      <td>0.00</td>\n",
              "      <td>0.2</td>\n",
              "      <td>0.000</td>\n",
              "      <td>4</td>\n",
              "      <td>0.2</td>\n",
              "      <td>0.8</td>\n",
              "      <td>0</td>\n",
              "      <td>0.2</td>\n",
              "      <td>0.0</td>\n",
              "      <td>2.2</td>\n",
              "      <td>1.800</td>\n",
              "      <td>0.8</td>\n",
              "      <td>0.5</td>\n",
              "      <td>0.7200</td>\n",
              "    </tr>\n",
              "    <tr>\n",
              "      <th>3</th>\n",
              "      <td>59.85</td>\n",
              "      <td>4</td>\n",
              "      <td>0.00</td>\n",
              "      <td>0.2</td>\n",
              "      <td>0.000</td>\n",
              "      <td>0.00</td>\n",
              "      <td>0.2</td>\n",
              "      <td>0.000</td>\n",
              "      <td>0.00</td>\n",
              "      <td>5.0</td>\n",
              "      <td>0.2</td>\n",
              "      <td>1.0</td>\n",
              "      <td>0.00</td>\n",
              "      <td>0.2</td>\n",
              "      <td>0.000</td>\n",
              "      <td>2</td>\n",
              "      <td>0.2</td>\n",
              "      <td>0.4</td>\n",
              "      <td>0</td>\n",
              "      <td>0.2</td>\n",
              "      <td>0.0</td>\n",
              "      <td>2.0</td>\n",
              "      <td>1.400</td>\n",
              "      <td>0.4</td>\n",
              "      <td>0.5</td>\n",
              "      <td>0.2800</td>\n",
              "    </tr>\n",
              "    <tr>\n",
              "      <th>4</th>\n",
              "      <td>3.41</td>\n",
              "      <td>16</td>\n",
              "      <td>11.73</td>\n",
              "      <td>0.6</td>\n",
              "      <td>7.038</td>\n",
              "      <td>85.87</td>\n",
              "      <td>0.6</td>\n",
              "      <td>51.522</td>\n",
              "      <td>97.60</td>\n",
              "      <td>5.0</td>\n",
              "      <td>0.2</td>\n",
              "      <td>1.0</td>\n",
              "      <td>6.96</td>\n",
              "      <td>0.4</td>\n",
              "      <td>2.784</td>\n",
              "      <td>2</td>\n",
              "      <td>0.2</td>\n",
              "      <td>0.4</td>\n",
              "      <td>1</td>\n",
              "      <td>0.4</td>\n",
              "      <td>0.4</td>\n",
              "      <td>4.0</td>\n",
              "      <td>63.144</td>\n",
              "      <td>0.8</td>\n",
              "      <td>0.5</td>\n",
              "      <td>25.2576</td>\n",
              "    </tr>\n",
              "  </tbody>\n",
              "</table>\n",
              "</div>"
            ],
            "text/plain": [
              "   Sector_score LOCATION_ID  PARA_A  ...  CONTROL_RISK  Detection_Risk  Audit_Risk\n",
              "0          3.89          22    0.00  ...           0.4             0.5      2.5376\n",
              "1         55.57          29    1.26  ...           0.4             0.5      1.0272\n",
              "2          2.72          16    0.00  ...           0.8             0.5      0.7200\n",
              "3         59.85           4    0.00  ...           0.4             0.5      0.2800\n",
              "4          3.41          16   11.73  ...           0.8             0.5     25.2576\n",
              "\n",
              "[5 rows x 26 columns]"
            ]
          },
          "metadata": {
            "tags": []
          },
          "execution_count": 68
        }
      ]
    },
    {
      "cell_type": "code",
      "metadata": {
        "id": "guLrBcbewC4T",
        "outputId": "e5a5b270-7437-413b-d074-efc1b703d2a2",
        "colab": {
          "base_uri": "https://localhost:8080/",
          "height": 34
        }
      },
      "source": [
        "test_data.shape"
      ],
      "execution_count": 69,
      "outputs": [
        {
          "output_type": "execute_result",
          "data": {
            "text/plain": [
              "(233, 26)"
            ]
          },
          "metadata": {
            "tags": []
          },
          "execution_count": 69
        }
      ]
    },
    {
      "cell_type": "code",
      "metadata": {
        "id": "fhuycD5u0UN5",
        "outputId": "46329805-b801-4803-c253-1838f27923fa",
        "colab": {
          "base_uri": "https://localhost:8080/",
          "height": 476
        }
      },
      "source": [
        "test_data.isnull().sum()"
      ],
      "execution_count": 70,
      "outputs": [
        {
          "output_type": "execute_result",
          "data": {
            "text/plain": [
              "Sector_score      0\n",
              "LOCATION_ID       0\n",
              "PARA_A            0\n",
              "Score_A           0\n",
              "Risk_A            0\n",
              "PARA_B            0\n",
              "Score_B           0\n",
              "Risk_B            0\n",
              "TOTAL             0\n",
              "numbers           0\n",
              "Score_B.1         0\n",
              "Risk_C            0\n",
              "Money_Value       1\n",
              "Score_MV          0\n",
              "Risk_D            0\n",
              "District_Loss     0\n",
              "PROB              0\n",
              "RiSk_E            0\n",
              "History           0\n",
              "Prob              0\n",
              "Risk_F            0\n",
              "Score             0\n",
              "Inherent_Risk     0\n",
              "CONTROL_RISK      0\n",
              "Detection_Risk    0\n",
              "Audit_Risk        0\n",
              "dtype: int64"
            ]
          },
          "metadata": {
            "tags": []
          },
          "execution_count": 70
        }
      ]
    },
    {
      "cell_type": "code",
      "metadata": {
        "id": "8U5BBktS0Z6_"
      },
      "source": [
        "test_data1 = test_data.dropna()"
      ],
      "execution_count": 71,
      "outputs": []
    },
    {
      "cell_type": "code",
      "metadata": {
        "id": "8gCLwy4O0kJh",
        "outputId": "cd7369b2-d47d-4f19-91a6-ab8c5d0d9577",
        "colab": {
          "base_uri": "https://localhost:8080/",
          "height": 476
        }
      },
      "source": [
        "test_data1.isnull().sum()"
      ],
      "execution_count": 72,
      "outputs": [
        {
          "output_type": "execute_result",
          "data": {
            "text/plain": [
              "Sector_score      0\n",
              "LOCATION_ID       0\n",
              "PARA_A            0\n",
              "Score_A           0\n",
              "Risk_A            0\n",
              "PARA_B            0\n",
              "Score_B           0\n",
              "Risk_B            0\n",
              "TOTAL             0\n",
              "numbers           0\n",
              "Score_B.1         0\n",
              "Risk_C            0\n",
              "Money_Value       0\n",
              "Score_MV          0\n",
              "Risk_D            0\n",
              "District_Loss     0\n",
              "PROB              0\n",
              "RiSk_E            0\n",
              "History           0\n",
              "Prob              0\n",
              "Risk_F            0\n",
              "Score             0\n",
              "Inherent_Risk     0\n",
              "CONTROL_RISK      0\n",
              "Detection_Risk    0\n",
              "Audit_Risk        0\n",
              "dtype: int64"
            ]
          },
          "metadata": {
            "tags": []
          },
          "execution_count": 72
        }
      ]
    },
    {
      "cell_type": "code",
      "metadata": {
        "id": "_QSIpZr6wDAd",
        "outputId": "b388466d-fd2b-4a0a-9c6b-1c76f03ffc11",
        "colab": {
          "base_uri": "https://localhost:8080/",
          "height": 34
        }
      },
      "source": [
        "test_data_new = test_data1.copy()\n",
        "test_data_new.shape"
      ],
      "execution_count": 73,
      "outputs": [
        {
          "output_type": "execute_result",
          "data": {
            "text/plain": [
              "(232, 26)"
            ]
          },
          "metadata": {
            "tags": []
          },
          "execution_count": 73
        }
      ]
    },
    {
      "cell_type": "code",
      "metadata": {
        "id": "Gb9z135owDFW",
        "outputId": "d07d7a46-6d6f-42a0-caa0-5584305efe73",
        "colab": {
          "base_uri": "https://localhost:8080/",
          "height": 224
        }
      },
      "source": [
        "test_data_new1 = test_data_new.drop(['LOCATION_ID','CONTROL_RISK','Inherent_Risk','Detection_Risk'], axis=1)\n",
        "test_data_new1.head()"
      ],
      "execution_count": 74,
      "outputs": [
        {
          "output_type": "execute_result",
          "data": {
            "text/html": [
              "<div>\n",
              "<style scoped>\n",
              "    .dataframe tbody tr th:only-of-type {\n",
              "        vertical-align: middle;\n",
              "    }\n",
              "\n",
              "    .dataframe tbody tr th {\n",
              "        vertical-align: top;\n",
              "    }\n",
              "\n",
              "    .dataframe thead th {\n",
              "        text-align: right;\n",
              "    }\n",
              "</style>\n",
              "<table border=\"1\" class=\"dataframe\">\n",
              "  <thead>\n",
              "    <tr style=\"text-align: right;\">\n",
              "      <th></th>\n",
              "      <th>Sector_score</th>\n",
              "      <th>PARA_A</th>\n",
              "      <th>Score_A</th>\n",
              "      <th>Risk_A</th>\n",
              "      <th>PARA_B</th>\n",
              "      <th>Score_B</th>\n",
              "      <th>Risk_B</th>\n",
              "      <th>TOTAL</th>\n",
              "      <th>numbers</th>\n",
              "      <th>Score_B.1</th>\n",
              "      <th>Risk_C</th>\n",
              "      <th>Money_Value</th>\n",
              "      <th>Score_MV</th>\n",
              "      <th>Risk_D</th>\n",
              "      <th>District_Loss</th>\n",
              "      <th>PROB</th>\n",
              "      <th>RiSk_E</th>\n",
              "      <th>History</th>\n",
              "      <th>Prob</th>\n",
              "      <th>Risk_F</th>\n",
              "      <th>Score</th>\n",
              "      <th>Audit_Risk</th>\n",
              "    </tr>\n",
              "  </thead>\n",
              "  <tbody>\n",
              "    <tr>\n",
              "      <th>0</th>\n",
              "      <td>3.89</td>\n",
              "      <td>0.00</td>\n",
              "      <td>0.2</td>\n",
              "      <td>0.000</td>\n",
              "      <td>18.05</td>\n",
              "      <td>0.6</td>\n",
              "      <td>10.830</td>\n",
              "      <td>18.05</td>\n",
              "      <td>5.0</td>\n",
              "      <td>0.2</td>\n",
              "      <td>1.0</td>\n",
              "      <td>2.29</td>\n",
              "      <td>0.2</td>\n",
              "      <td>0.458</td>\n",
              "      <td>2</td>\n",
              "      <td>0.2</td>\n",
              "      <td>0.4</td>\n",
              "      <td>0</td>\n",
              "      <td>0.2</td>\n",
              "      <td>0.0</td>\n",
              "      <td>3.2</td>\n",
              "      <td>2.5376</td>\n",
              "    </tr>\n",
              "    <tr>\n",
              "      <th>1</th>\n",
              "      <td>55.57</td>\n",
              "      <td>1.26</td>\n",
              "      <td>0.4</td>\n",
              "      <td>0.504</td>\n",
              "      <td>1.58</td>\n",
              "      <td>0.4</td>\n",
              "      <td>0.632</td>\n",
              "      <td>2.84</td>\n",
              "      <td>5.0</td>\n",
              "      <td>0.2</td>\n",
              "      <td>1.0</td>\n",
              "      <td>6.50</td>\n",
              "      <td>0.4</td>\n",
              "      <td>2.600</td>\n",
              "      <td>2</td>\n",
              "      <td>0.2</td>\n",
              "      <td>0.4</td>\n",
              "      <td>0</td>\n",
              "      <td>0.2</td>\n",
              "      <td>0.0</td>\n",
              "      <td>3.0</td>\n",
              "      <td>1.0272</td>\n",
              "    </tr>\n",
              "    <tr>\n",
              "      <th>2</th>\n",
              "      <td>2.72</td>\n",
              "      <td>0.00</td>\n",
              "      <td>0.2</td>\n",
              "      <td>0.000</td>\n",
              "      <td>0.00</td>\n",
              "      <td>0.2</td>\n",
              "      <td>0.000</td>\n",
              "      <td>0.00</td>\n",
              "      <td>5.0</td>\n",
              "      <td>0.2</td>\n",
              "      <td>1.0</td>\n",
              "      <td>0.00</td>\n",
              "      <td>0.2</td>\n",
              "      <td>0.000</td>\n",
              "      <td>4</td>\n",
              "      <td>0.2</td>\n",
              "      <td>0.8</td>\n",
              "      <td>0</td>\n",
              "      <td>0.2</td>\n",
              "      <td>0.0</td>\n",
              "      <td>2.2</td>\n",
              "      <td>0.7200</td>\n",
              "    </tr>\n",
              "    <tr>\n",
              "      <th>3</th>\n",
              "      <td>59.85</td>\n",
              "      <td>0.00</td>\n",
              "      <td>0.2</td>\n",
              "      <td>0.000</td>\n",
              "      <td>0.00</td>\n",
              "      <td>0.2</td>\n",
              "      <td>0.000</td>\n",
              "      <td>0.00</td>\n",
              "      <td>5.0</td>\n",
              "      <td>0.2</td>\n",
              "      <td>1.0</td>\n",
              "      <td>0.00</td>\n",
              "      <td>0.2</td>\n",
              "      <td>0.000</td>\n",
              "      <td>2</td>\n",
              "      <td>0.2</td>\n",
              "      <td>0.4</td>\n",
              "      <td>0</td>\n",
              "      <td>0.2</td>\n",
              "      <td>0.0</td>\n",
              "      <td>2.0</td>\n",
              "      <td>0.2800</td>\n",
              "    </tr>\n",
              "    <tr>\n",
              "      <th>4</th>\n",
              "      <td>3.41</td>\n",
              "      <td>11.73</td>\n",
              "      <td>0.6</td>\n",
              "      <td>7.038</td>\n",
              "      <td>85.87</td>\n",
              "      <td>0.6</td>\n",
              "      <td>51.522</td>\n",
              "      <td>97.60</td>\n",
              "      <td>5.0</td>\n",
              "      <td>0.2</td>\n",
              "      <td>1.0</td>\n",
              "      <td>6.96</td>\n",
              "      <td>0.4</td>\n",
              "      <td>2.784</td>\n",
              "      <td>2</td>\n",
              "      <td>0.2</td>\n",
              "      <td>0.4</td>\n",
              "      <td>1</td>\n",
              "      <td>0.4</td>\n",
              "      <td>0.4</td>\n",
              "      <td>4.0</td>\n",
              "      <td>25.2576</td>\n",
              "    </tr>\n",
              "  </tbody>\n",
              "</table>\n",
              "</div>"
            ],
            "text/plain": [
              "   Sector_score  PARA_A  Score_A  Risk_A  ...  Prob  Risk_F  Score  Audit_Risk\n",
              "0          3.89    0.00      0.2   0.000  ...   0.2     0.0    3.2      2.5376\n",
              "1         55.57    1.26      0.4   0.504  ...   0.2     0.0    3.0      1.0272\n",
              "2          2.72    0.00      0.2   0.000  ...   0.2     0.0    2.2      0.7200\n",
              "3         59.85    0.00      0.2   0.000  ...   0.2     0.0    2.0      0.2800\n",
              "4          3.41   11.73      0.6   7.038  ...   0.4     0.4    4.0     25.2576\n",
              "\n",
              "[5 rows x 22 columns]"
            ]
          },
          "metadata": {
            "tags": []
          },
          "execution_count": 74
        }
      ]
    },
    {
      "cell_type": "code",
      "metadata": {
        "id": "XcdbQd07wC-X",
        "outputId": "14cd4372-840f-4b9c-90c7-9b7cb26a224c",
        "colab": {
          "base_uri": "https://localhost:8080/",
          "height": 34
        }
      },
      "source": [
        "test_data_new1.shape"
      ],
      "execution_count": 75,
      "outputs": [
        {
          "output_type": "execute_result",
          "data": {
            "text/plain": [
              "(232, 22)"
            ]
          },
          "metadata": {
            "tags": []
          },
          "execution_count": 75
        }
      ]
    },
    {
      "cell_type": "code",
      "metadata": {
        "id": "cl4BswM7wC8c",
        "outputId": "b93566a9-edab-48b8-90b5-6bb89d9865ba",
        "colab": {
          "base_uri": "https://localhost:8080/",
          "height": 408
        }
      },
      "source": [
        "Q1 = test_data_new1.quantile(0.25)\n",
        "Q3 = test_data_new1.quantile(0.75)\n",
        "IQR = Q3 - Q1\n",
        "print(IQR)"
      ],
      "execution_count": 76,
      "outputs": [
        {
          "output_type": "stream",
          "text": [
            "Sector_score     53.2000\n",
            "PARA_A            2.8000\n",
            "Score_A           0.4000\n",
            "Risk_A            1.7320\n",
            "PARA_B            2.6150\n",
            "Score_B           0.2000\n",
            "Risk_B            0.8565\n",
            "TOTAL             7.6800\n",
            "numbers           0.0000\n",
            "Score_B.1         0.0000\n",
            "Risk_C            0.0000\n",
            "Money_Value       6.3575\n",
            "Score_MV          0.2000\n",
            "Risk_D            2.5430\n",
            "District_Loss     0.0000\n",
            "PROB              0.0000\n",
            "RiSk_E            0.0000\n",
            "History           0.0000\n",
            "Prob              0.0000\n",
            "Risk_F            0.0000\n",
            "Score             1.4000\n",
            "Audit_Risk        3.0060\n",
            "dtype: float64\n"
          ],
          "name": "stdout"
        }
      ]
    },
    {
      "cell_type": "code",
      "metadata": {
        "id": "mvDa2BZwtrE_"
      },
      "source": [
        "lower_bound_test = Q1 -(1.5 * IQR) \n",
        "upper_bound_test = Q3 +(1.5 * IQR)"
      ],
      "execution_count": 77,
      "outputs": []
    },
    {
      "cell_type": "code",
      "metadata": {
        "id": "mWlpKvF2xZ8F",
        "outputId": "e12717b8-b14a-428f-c4d5-f7613bf99d35",
        "colab": {
          "base_uri": "https://localhost:8080/",
          "height": 408
        }
      },
      "source": [
        "lower_bound_test"
      ],
      "execution_count": 78,
      "outputs": [
        {
          "output_type": "execute_result",
          "data": {
            "text/plain": [
              "Sector_score    -77.43000\n",
              "PARA_A           -4.07000\n",
              "Score_A          -0.40000\n",
              "Risk_A           -2.57200\n",
              "PARA_B           -3.92250\n",
              "Score_B          -0.10000\n",
              "Risk_B           -1.28475\n",
              "TOTAL           -11.06250\n",
              "numbers           5.00000\n",
              "Score_B.1         0.20000\n",
              "Risk_C            1.00000\n",
              "Money_Value      -9.53625\n",
              "Score_MV         -0.10000\n",
              "Risk_D           -3.81450\n",
              "District_Loss     2.00000\n",
              "PROB              0.20000\n",
              "RiSk_E            0.40000\n",
              "History           0.00000\n",
              "Prob              0.20000\n",
              "Risk_F            0.00000\n",
              "Score            -0.10000\n",
              "Audit_Risk       -4.19190\n",
              "dtype: float64"
            ]
          },
          "metadata": {
            "tags": []
          },
          "execution_count": 78
        }
      ]
    },
    {
      "cell_type": "code",
      "metadata": {
        "id": "8vTYa_POxaEt",
        "outputId": "44c894da-f5ed-49b6-8c0a-5a1b2faeb50f",
        "colab": {
          "base_uri": "https://localhost:8080/",
          "height": 408
        }
      },
      "source": [
        "upper_bound_test"
      ],
      "execution_count": 79,
      "outputs": [
        {
          "output_type": "execute_result",
          "data": {
            "text/plain": [
              "Sector_score     135.37000\n",
              "PARA_A             7.13000\n",
              "Score_A            1.20000\n",
              "Risk_A             4.35600\n",
              "PARA_B             6.53750\n",
              "Score_B            0.70000\n",
              "Risk_B             2.14125\n",
              "TOTAL             19.65750\n",
              "numbers            5.00000\n",
              "Score_B.1          0.20000\n",
              "Risk_C             1.00000\n",
              "Money_Value       15.89375\n",
              "Score_MV           0.70000\n",
              "Risk_D             6.35750\n",
              "District_Loss      2.00000\n",
              "PROB               0.20000\n",
              "RiSk_E             0.40000\n",
              "History            0.00000\n",
              "Prob               0.20000\n",
              "Risk_F             0.00000\n",
              "Score              5.50000\n",
              "Audit_Risk         7.83210\n",
              "dtype: float64"
            ]
          },
          "metadata": {
            "tags": []
          },
          "execution_count": 79
        }
      ]
    },
    {
      "cell_type": "code",
      "metadata": {
        "id": "KQX9v82mxv2j",
        "outputId": "b5e373eb-ea5d-4c37-81d1-548ecd8cb951",
        "colab": {
          "base_uri": "https://localhost:8080/",
          "height": 439
        }
      },
      "source": [
        "(test_data_new1 < (Q1 - 1.5 * IQR)) |(test_data_new1 > (Q3 + 1.5 * IQR))"
      ],
      "execution_count": 80,
      "outputs": [
        {
          "output_type": "execute_result",
          "data": {
            "text/html": [
              "<div>\n",
              "<style scoped>\n",
              "    .dataframe tbody tr th:only-of-type {\n",
              "        vertical-align: middle;\n",
              "    }\n",
              "\n",
              "    .dataframe tbody tr th {\n",
              "        vertical-align: top;\n",
              "    }\n",
              "\n",
              "    .dataframe thead th {\n",
              "        text-align: right;\n",
              "    }\n",
              "</style>\n",
              "<table border=\"1\" class=\"dataframe\">\n",
              "  <thead>\n",
              "    <tr style=\"text-align: right;\">\n",
              "      <th></th>\n",
              "      <th>Sector_score</th>\n",
              "      <th>PARA_A</th>\n",
              "      <th>Score_A</th>\n",
              "      <th>Risk_A</th>\n",
              "      <th>PARA_B</th>\n",
              "      <th>Score_B</th>\n",
              "      <th>Risk_B</th>\n",
              "      <th>TOTAL</th>\n",
              "      <th>numbers</th>\n",
              "      <th>Score_B.1</th>\n",
              "      <th>Risk_C</th>\n",
              "      <th>Money_Value</th>\n",
              "      <th>Score_MV</th>\n",
              "      <th>Risk_D</th>\n",
              "      <th>District_Loss</th>\n",
              "      <th>PROB</th>\n",
              "      <th>RiSk_E</th>\n",
              "      <th>History</th>\n",
              "      <th>Prob</th>\n",
              "      <th>Risk_F</th>\n",
              "      <th>Score</th>\n",
              "      <th>Audit_Risk</th>\n",
              "    </tr>\n",
              "  </thead>\n",
              "  <tbody>\n",
              "    <tr>\n",
              "      <th>0</th>\n",
              "      <td>False</td>\n",
              "      <td>False</td>\n",
              "      <td>False</td>\n",
              "      <td>False</td>\n",
              "      <td>True</td>\n",
              "      <td>False</td>\n",
              "      <td>True</td>\n",
              "      <td>False</td>\n",
              "      <td>False</td>\n",
              "      <td>False</td>\n",
              "      <td>False</td>\n",
              "      <td>False</td>\n",
              "      <td>False</td>\n",
              "      <td>False</td>\n",
              "      <td>False</td>\n",
              "      <td>False</td>\n",
              "      <td>False</td>\n",
              "      <td>False</td>\n",
              "      <td>False</td>\n",
              "      <td>False</td>\n",
              "      <td>False</td>\n",
              "      <td>False</td>\n",
              "    </tr>\n",
              "    <tr>\n",
              "      <th>1</th>\n",
              "      <td>False</td>\n",
              "      <td>False</td>\n",
              "      <td>False</td>\n",
              "      <td>False</td>\n",
              "      <td>False</td>\n",
              "      <td>False</td>\n",
              "      <td>False</td>\n",
              "      <td>False</td>\n",
              "      <td>False</td>\n",
              "      <td>False</td>\n",
              "      <td>False</td>\n",
              "      <td>False</td>\n",
              "      <td>False</td>\n",
              "      <td>False</td>\n",
              "      <td>False</td>\n",
              "      <td>False</td>\n",
              "      <td>False</td>\n",
              "      <td>False</td>\n",
              "      <td>False</td>\n",
              "      <td>False</td>\n",
              "      <td>False</td>\n",
              "      <td>False</td>\n",
              "    </tr>\n",
              "    <tr>\n",
              "      <th>2</th>\n",
              "      <td>False</td>\n",
              "      <td>False</td>\n",
              "      <td>False</td>\n",
              "      <td>False</td>\n",
              "      <td>False</td>\n",
              "      <td>False</td>\n",
              "      <td>False</td>\n",
              "      <td>False</td>\n",
              "      <td>False</td>\n",
              "      <td>False</td>\n",
              "      <td>False</td>\n",
              "      <td>False</td>\n",
              "      <td>False</td>\n",
              "      <td>False</td>\n",
              "      <td>True</td>\n",
              "      <td>False</td>\n",
              "      <td>True</td>\n",
              "      <td>False</td>\n",
              "      <td>False</td>\n",
              "      <td>False</td>\n",
              "      <td>False</td>\n",
              "      <td>False</td>\n",
              "    </tr>\n",
              "    <tr>\n",
              "      <th>3</th>\n",
              "      <td>False</td>\n",
              "      <td>False</td>\n",
              "      <td>False</td>\n",
              "      <td>False</td>\n",
              "      <td>False</td>\n",
              "      <td>False</td>\n",
              "      <td>False</td>\n",
              "      <td>False</td>\n",
              "      <td>False</td>\n",
              "      <td>False</td>\n",
              "      <td>False</td>\n",
              "      <td>False</td>\n",
              "      <td>False</td>\n",
              "      <td>False</td>\n",
              "      <td>False</td>\n",
              "      <td>False</td>\n",
              "      <td>False</td>\n",
              "      <td>False</td>\n",
              "      <td>False</td>\n",
              "      <td>False</td>\n",
              "      <td>False</td>\n",
              "      <td>False</td>\n",
              "    </tr>\n",
              "    <tr>\n",
              "      <th>4</th>\n",
              "      <td>False</td>\n",
              "      <td>True</td>\n",
              "      <td>False</td>\n",
              "      <td>True</td>\n",
              "      <td>True</td>\n",
              "      <td>False</td>\n",
              "      <td>True</td>\n",
              "      <td>True</td>\n",
              "      <td>False</td>\n",
              "      <td>False</td>\n",
              "      <td>False</td>\n",
              "      <td>False</td>\n",
              "      <td>False</td>\n",
              "      <td>False</td>\n",
              "      <td>False</td>\n",
              "      <td>False</td>\n",
              "      <td>False</td>\n",
              "      <td>True</td>\n",
              "      <td>True</td>\n",
              "      <td>True</td>\n",
              "      <td>False</td>\n",
              "      <td>True</td>\n",
              "    </tr>\n",
              "    <tr>\n",
              "      <th>...</th>\n",
              "      <td>...</td>\n",
              "      <td>...</td>\n",
              "      <td>...</td>\n",
              "      <td>...</td>\n",
              "      <td>...</td>\n",
              "      <td>...</td>\n",
              "      <td>...</td>\n",
              "      <td>...</td>\n",
              "      <td>...</td>\n",
              "      <td>...</td>\n",
              "      <td>...</td>\n",
              "      <td>...</td>\n",
              "      <td>...</td>\n",
              "      <td>...</td>\n",
              "      <td>...</td>\n",
              "      <td>...</td>\n",
              "      <td>...</td>\n",
              "      <td>...</td>\n",
              "      <td>...</td>\n",
              "      <td>...</td>\n",
              "      <td>...</td>\n",
              "      <td>...</td>\n",
              "    </tr>\n",
              "    <tr>\n",
              "      <th>228</th>\n",
              "      <td>False</td>\n",
              "      <td>False</td>\n",
              "      <td>False</td>\n",
              "      <td>False</td>\n",
              "      <td>False</td>\n",
              "      <td>False</td>\n",
              "      <td>False</td>\n",
              "      <td>False</td>\n",
              "      <td>False</td>\n",
              "      <td>False</td>\n",
              "      <td>False</td>\n",
              "      <td>False</td>\n",
              "      <td>False</td>\n",
              "      <td>False</td>\n",
              "      <td>False</td>\n",
              "      <td>False</td>\n",
              "      <td>False</td>\n",
              "      <td>False</td>\n",
              "      <td>False</td>\n",
              "      <td>False</td>\n",
              "      <td>False</td>\n",
              "      <td>False</td>\n",
              "    </tr>\n",
              "    <tr>\n",
              "      <th>229</th>\n",
              "      <td>False</td>\n",
              "      <td>False</td>\n",
              "      <td>False</td>\n",
              "      <td>False</td>\n",
              "      <td>False</td>\n",
              "      <td>False</td>\n",
              "      <td>False</td>\n",
              "      <td>False</td>\n",
              "      <td>False</td>\n",
              "      <td>False</td>\n",
              "      <td>False</td>\n",
              "      <td>False</td>\n",
              "      <td>False</td>\n",
              "      <td>False</td>\n",
              "      <td>True</td>\n",
              "      <td>False</td>\n",
              "      <td>True</td>\n",
              "      <td>False</td>\n",
              "      <td>False</td>\n",
              "      <td>False</td>\n",
              "      <td>False</td>\n",
              "      <td>False</td>\n",
              "    </tr>\n",
              "    <tr>\n",
              "      <th>230</th>\n",
              "      <td>False</td>\n",
              "      <td>False</td>\n",
              "      <td>False</td>\n",
              "      <td>False</td>\n",
              "      <td>True</td>\n",
              "      <td>False</td>\n",
              "      <td>True</td>\n",
              "      <td>True</td>\n",
              "      <td>False</td>\n",
              "      <td>False</td>\n",
              "      <td>False</td>\n",
              "      <td>True</td>\n",
              "      <td>False</td>\n",
              "      <td>True</td>\n",
              "      <td>False</td>\n",
              "      <td>False</td>\n",
              "      <td>False</td>\n",
              "      <td>False</td>\n",
              "      <td>False</td>\n",
              "      <td>False</td>\n",
              "      <td>False</td>\n",
              "      <td>True</td>\n",
              "    </tr>\n",
              "    <tr>\n",
              "      <th>231</th>\n",
              "      <td>False</td>\n",
              "      <td>False</td>\n",
              "      <td>False</td>\n",
              "      <td>False</td>\n",
              "      <td>False</td>\n",
              "      <td>False</td>\n",
              "      <td>False</td>\n",
              "      <td>False</td>\n",
              "      <td>True</td>\n",
              "      <td>True</td>\n",
              "      <td>True</td>\n",
              "      <td>False</td>\n",
              "      <td>False</td>\n",
              "      <td>False</td>\n",
              "      <td>True</td>\n",
              "      <td>False</td>\n",
              "      <td>True</td>\n",
              "      <td>False</td>\n",
              "      <td>False</td>\n",
              "      <td>False</td>\n",
              "      <td>False</td>\n",
              "      <td>False</td>\n",
              "    </tr>\n",
              "    <tr>\n",
              "      <th>232</th>\n",
              "      <td>False</td>\n",
              "      <td>False</td>\n",
              "      <td>False</td>\n",
              "      <td>False</td>\n",
              "      <td>False</td>\n",
              "      <td>False</td>\n",
              "      <td>False</td>\n",
              "      <td>False</td>\n",
              "      <td>False</td>\n",
              "      <td>False</td>\n",
              "      <td>False</td>\n",
              "      <td>False</td>\n",
              "      <td>False</td>\n",
              "      <td>False</td>\n",
              "      <td>False</td>\n",
              "      <td>False</td>\n",
              "      <td>False</td>\n",
              "      <td>False</td>\n",
              "      <td>False</td>\n",
              "      <td>False</td>\n",
              "      <td>False</td>\n",
              "      <td>False</td>\n",
              "    </tr>\n",
              "  </tbody>\n",
              "</table>\n",
              "<p>232 rows × 22 columns</p>\n",
              "</div>"
            ],
            "text/plain": [
              "     Sector_score  PARA_A  Score_A  Risk_A  ...   Prob  Risk_F  Score  Audit_Risk\n",
              "0           False   False    False   False  ...  False   False  False       False\n",
              "1           False   False    False   False  ...  False   False  False       False\n",
              "2           False   False    False   False  ...  False   False  False       False\n",
              "3           False   False    False   False  ...  False   False  False       False\n",
              "4           False    True    False    True  ...   True    True  False        True\n",
              "..            ...     ...      ...     ...  ...    ...     ...    ...         ...\n",
              "228         False   False    False   False  ...  False   False  False       False\n",
              "229         False   False    False   False  ...  False   False  False       False\n",
              "230         False   False    False   False  ...  False   False  False        True\n",
              "231         False   False    False   False  ...  False   False  False       False\n",
              "232         False   False    False   False  ...  False   False  False       False\n",
              "\n",
              "[232 rows x 22 columns]"
            ]
          },
          "metadata": {
            "tags": []
          },
          "execution_count": 80
        }
      ]
    },
    {
      "cell_type": "code",
      "metadata": {
        "id": "qoVkzEvSxaB5",
        "outputId": "797e001e-501f-4006-a391-535e3e6c3f2a",
        "colab": {
          "base_uri": "https://localhost:8080/",
          "height": 34
        }
      },
      "source": [
        "test_iqr = test_data_new1[~((test_data_new1 < (Q1 - 1.5 * IQR)) |(test_data_new1 > (Q3 + 1.5 * IQR))).any(axis=1)]\n",
        "test_iqr.shape"
      ],
      "execution_count": 81,
      "outputs": [
        {
          "output_type": "execute_result",
          "data": {
            "text/plain": [
              "(137, 22)"
            ]
          },
          "metadata": {
            "tags": []
          },
          "execution_count": 81
        }
      ]
    },
    {
      "cell_type": "code",
      "metadata": {
        "id": "I56QX32Jxv9C",
        "outputId": "2e60e1e7-f3c7-4c03-927a-9c77fa76c080",
        "colab": {
          "base_uri": "https://localhost:8080/",
          "height": 34
        }
      },
      "source": [
        "test_data_new1.shape  #original test"
      ],
      "execution_count": 82,
      "outputs": [
        {
          "output_type": "execute_result",
          "data": {
            "text/plain": [
              "(232, 22)"
            ]
          },
          "metadata": {
            "tags": []
          },
          "execution_count": 82
        }
      ]
    },
    {
      "cell_type": "code",
      "metadata": {
        "id": "FPY4BDsVxwBu"
      },
      "source": [
        "test_iqr_1 = test_iqr.copy()"
      ],
      "execution_count": 83,
      "outputs": []
    },
    {
      "cell_type": "code",
      "metadata": {
        "id": "CwuDcYaTxv6g",
        "outputId": "14edbca7-ace4-4b75-c920-04127b7cf7e3",
        "colab": {
          "base_uri": "https://localhost:8080/",
          "height": 102
        }
      },
      "source": [
        "test_iqr_1.columns"
      ],
      "execution_count": 84,
      "outputs": [
        {
          "output_type": "execute_result",
          "data": {
            "text/plain": [
              "Index(['Sector_score', 'PARA_A', 'Score_A', 'Risk_A', 'PARA_B', 'Score_B',\n",
              "       'Risk_B', 'TOTAL', 'numbers', 'Score_B.1', 'Risk_C', 'Money_Value',\n",
              "       'Score_MV', 'Risk_D', 'District_Loss', 'PROB', 'RiSk_E', 'History',\n",
              "       'Prob', 'Risk_F', 'Score', 'Audit_Risk'],\n",
              "      dtype='object')"
            ]
          },
          "metadata": {
            "tags": []
          },
          "execution_count": 84
        }
      ]
    },
    {
      "cell_type": "code",
      "metadata": {
        "id": "Re8xSPETxZ_r"
      },
      "source": [
        "#Normalization \n",
        "from sklearn.preprocessing import MinMaxScaler\n",
        "\n",
        "norm = MinMaxScaler().fit(test_iqr_1)\n",
        "\n",
        "# transform training data\n",
        "test_norm = norm.transform(test_iqr_1)"
      ],
      "execution_count": 85,
      "outputs": []
    },
    {
      "cell_type": "code",
      "metadata": {
        "id": "wFC6ohyzzXPX",
        "outputId": "1db78051-15f9-4938-808b-ee74d01e5515",
        "colab": {
          "base_uri": "https://localhost:8080/",
          "height": 224
        }
      },
      "source": [
        "test_modified = pd.DataFrame(test_norm, columns=['Sector_score', 'PARA_A', 'Score_A', 'Risk_A', 'PARA_B', 'Score_B',\n",
        "       'Risk_B', 'TOTAL', 'numbers', 'Score_B.1', 'Risk_C', 'Money_Value',\n",
        "       'Score_MV', 'Risk_D', 'District_Loss', 'PROB', 'RiSk_E', 'History',\n",
        "       'Prob', 'Risk_F', 'Score', 'Audit_Risk'])\n",
        "test_modified.head()"
      ],
      "execution_count": 86,
      "outputs": [
        {
          "output_type": "execute_result",
          "data": {
            "text/html": [
              "<div>\n",
              "<style scoped>\n",
              "    .dataframe tbody tr th:only-of-type {\n",
              "        vertical-align: middle;\n",
              "    }\n",
              "\n",
              "    .dataframe tbody tr th {\n",
              "        vertical-align: top;\n",
              "    }\n",
              "\n",
              "    .dataframe thead th {\n",
              "        text-align: right;\n",
              "    }\n",
              "</style>\n",
              "<table border=\"1\" class=\"dataframe\">\n",
              "  <thead>\n",
              "    <tr style=\"text-align: right;\">\n",
              "      <th></th>\n",
              "      <th>Sector_score</th>\n",
              "      <th>PARA_A</th>\n",
              "      <th>Score_A</th>\n",
              "      <th>Risk_A</th>\n",
              "      <th>PARA_B</th>\n",
              "      <th>Score_B</th>\n",
              "      <th>Risk_B</th>\n",
              "      <th>TOTAL</th>\n",
              "      <th>numbers</th>\n",
              "      <th>Score_B.1</th>\n",
              "      <th>Risk_C</th>\n",
              "      <th>Money_Value</th>\n",
              "      <th>Score_MV</th>\n",
              "      <th>Risk_D</th>\n",
              "      <th>District_Loss</th>\n",
              "      <th>PROB</th>\n",
              "      <th>RiSk_E</th>\n",
              "      <th>History</th>\n",
              "      <th>Prob</th>\n",
              "      <th>Risk_F</th>\n",
              "      <th>Score</th>\n",
              "      <th>Audit_Risk</th>\n",
              "    </tr>\n",
              "  </thead>\n",
              "  <tbody>\n",
              "    <tr>\n",
              "      <th>0</th>\n",
              "      <td>0.926207</td>\n",
              "      <td>0.179743</td>\n",
              "      <td>0.5</td>\n",
              "      <td>0.119829</td>\n",
              "      <td>0.301527</td>\n",
              "      <td>0.5</td>\n",
              "      <td>0.298395</td>\n",
              "      <td>0.348039</td>\n",
              "      <td>0.0</td>\n",
              "      <td>0.0</td>\n",
              "      <td>0.0</td>\n",
              "      <td>0.625000</td>\n",
              "      <td>0.5</td>\n",
              "      <td>0.416667</td>\n",
              "      <td>0.0</td>\n",
              "      <td>0.0</td>\n",
              "      <td>0.0</td>\n",
              "      <td>0.0</td>\n",
              "      <td>0.0</td>\n",
              "      <td>0.0</td>\n",
              "      <td>0.555556</td>\n",
              "      <td>0.481940</td>\n",
              "    </tr>\n",
              "    <tr>\n",
              "      <th>1</th>\n",
              "      <td>1.000000</td>\n",
              "      <td>0.000000</td>\n",
              "      <td>0.0</td>\n",
              "      <td>0.000000</td>\n",
              "      <td>0.000000</td>\n",
              "      <td>0.0</td>\n",
              "      <td>0.000000</td>\n",
              "      <td>0.000000</td>\n",
              "      <td>0.0</td>\n",
              "      <td>0.0</td>\n",
              "      <td>0.0</td>\n",
              "      <td>0.000000</td>\n",
              "      <td>0.0</td>\n",
              "      <td>0.000000</td>\n",
              "      <td>0.0</td>\n",
              "      <td>0.0</td>\n",
              "      <td>0.0</td>\n",
              "      <td>0.0</td>\n",
              "      <td>0.0</td>\n",
              "      <td>0.0</td>\n",
              "      <td>0.000000</td>\n",
              "      <td>0.000000</td>\n",
              "    </tr>\n",
              "    <tr>\n",
              "      <th>2</th>\n",
              "      <td>0.926207</td>\n",
              "      <td>0.000000</td>\n",
              "      <td>0.0</td>\n",
              "      <td>0.000000</td>\n",
              "      <td>0.000000</td>\n",
              "      <td>0.0</td>\n",
              "      <td>0.000000</td>\n",
              "      <td>0.000000</td>\n",
              "      <td>0.0</td>\n",
              "      <td>0.0</td>\n",
              "      <td>0.0</td>\n",
              "      <td>0.001923</td>\n",
              "      <td>0.0</td>\n",
              "      <td>0.000641</td>\n",
              "      <td>0.0</td>\n",
              "      <td>0.0</td>\n",
              "      <td>0.0</td>\n",
              "      <td>0.0</td>\n",
              "      <td>0.0</td>\n",
              "      <td>0.0</td>\n",
              "      <td>0.000000</td>\n",
              "      <td>0.000516</td>\n",
              "    </tr>\n",
              "    <tr>\n",
              "      <th>3</th>\n",
              "      <td>0.340690</td>\n",
              "      <td>0.094151</td>\n",
              "      <td>0.0</td>\n",
              "      <td>0.031384</td>\n",
              "      <td>0.154580</td>\n",
              "      <td>0.0</td>\n",
              "      <td>0.076487</td>\n",
              "      <td>0.180147</td>\n",
              "      <td>0.0</td>\n",
              "      <td>0.0</td>\n",
              "      <td>0.0</td>\n",
              "      <td>0.002885</td>\n",
              "      <td>0.0</td>\n",
              "      <td>0.000962</td>\n",
              "      <td>0.0</td>\n",
              "      <td>0.0</td>\n",
              "      <td>0.0</td>\n",
              "      <td>0.0</td>\n",
              "      <td>0.0</td>\n",
              "      <td>0.0</td>\n",
              "      <td>0.000000</td>\n",
              "      <td>0.038700</td>\n",
              "    </tr>\n",
              "    <tr>\n",
              "      <th>4</th>\n",
              "      <td>0.002414</td>\n",
              "      <td>0.156919</td>\n",
              "      <td>0.5</td>\n",
              "      <td>0.104612</td>\n",
              "      <td>0.000000</td>\n",
              "      <td>0.0</td>\n",
              "      <td>0.000000</td>\n",
              "      <td>0.134804</td>\n",
              "      <td>0.0</td>\n",
              "      <td>0.0</td>\n",
              "      <td>0.0</td>\n",
              "      <td>0.000000</td>\n",
              "      <td>0.0</td>\n",
              "      <td>0.000000</td>\n",
              "      <td>0.0</td>\n",
              "      <td>0.0</td>\n",
              "      <td>0.0</td>\n",
              "      <td>0.0</td>\n",
              "      <td>0.0</td>\n",
              "      <td>0.0</td>\n",
              "      <td>0.111111</td>\n",
              "      <td>0.056760</td>\n",
              "    </tr>\n",
              "  </tbody>\n",
              "</table>\n",
              "</div>"
            ],
            "text/plain": [
              "   Sector_score    PARA_A  Score_A  ...  Risk_F     Score  Audit_Risk\n",
              "0      0.926207  0.179743      0.5  ...     0.0  0.555556    0.481940\n",
              "1      1.000000  0.000000      0.0  ...     0.0  0.000000    0.000000\n",
              "2      0.926207  0.000000      0.0  ...     0.0  0.000000    0.000516\n",
              "3      0.340690  0.094151      0.0  ...     0.0  0.000000    0.038700\n",
              "4      0.002414  0.156919      0.5  ...     0.0  0.111111    0.056760\n",
              "\n",
              "[5 rows x 22 columns]"
            ]
          },
          "metadata": {
            "tags": []
          },
          "execution_count": 86
        }
      ]
    },
    {
      "cell_type": "code",
      "metadata": {
        "id": "btzTT_BPzXYX",
        "outputId": "0342c283-7fb0-4182-ebaa-0962ebd22769",
        "colab": {
          "base_uri": "https://localhost:8080/",
          "height": 510
        }
      },
      "source": [
        "test_modified.info()"
      ],
      "execution_count": 99,
      "outputs": [
        {
          "output_type": "stream",
          "text": [
            "<class 'pandas.core.frame.DataFrame'>\n",
            "RangeIndex: 137 entries, 0 to 136\n",
            "Data columns (total 22 columns):\n",
            " #   Column         Non-Null Count  Dtype  \n",
            "---  ------         --------------  -----  \n",
            " 0   Sector_score   137 non-null    float64\n",
            " 1   PARA_A         137 non-null    float64\n",
            " 2   Score_A        137 non-null    float64\n",
            " 3   Risk_A         137 non-null    float64\n",
            " 4   PARA_B         137 non-null    float64\n",
            " 5   Score_B        137 non-null    float64\n",
            " 6   Risk_B         137 non-null    float64\n",
            " 7   TOTAL          137 non-null    float64\n",
            " 8   numbers        137 non-null    float64\n",
            " 9   Score_B.1      137 non-null    float64\n",
            " 10  Risk_C         137 non-null    float64\n",
            " 11  Money_Value    137 non-null    float64\n",
            " 12  Score_MV       137 non-null    float64\n",
            " 13  Risk_D         137 non-null    float64\n",
            " 14  District_Loss  137 non-null    float64\n",
            " 15  PROB           137 non-null    float64\n",
            " 16  RiSk_E         137 non-null    float64\n",
            " 17  History        137 non-null    float64\n",
            " 18  Prob           137 non-null    float64\n",
            " 19  Risk_F         137 non-null    float64\n",
            " 20  Score          137 non-null    float64\n",
            " 21  Audit_Risk     137 non-null    float64\n",
            "dtypes: float64(22)\n",
            "memory usage: 23.7 KB\n"
          ],
          "name": "stdout"
        }
      ]
    },
    {
      "cell_type": "code",
      "metadata": {
        "id": "oBxSu1K0zXWB"
      },
      "source": [
        "Risk = log_model.predict(test_modified)"
      ],
      "execution_count": 150,
      "outputs": []
    },
    {
      "cell_type": "code",
      "metadata": {
        "id": "n5a_6VBWCKKA",
        "outputId": "d802613a-40c8-47a1-ab9c-f4d12f2be459",
        "colab": {
          "base_uri": "https://localhost:8080/",
          "height": 136
        }
      },
      "source": [
        "Risk"
      ],
      "execution_count": 151,
      "outputs": [
        {
          "output_type": "execute_result",
          "data": {
            "text/plain": [
              "array([0, 0, 0, 0, 0, 0, 0, 0, 0, 0, 0, 0, 1, 0, 0, 0, 0, 0, 0, 0, 0, 0,\n",
              "       1, 0, 0, 0, 0, 0, 0, 0, 0, 0, 0, 0, 0, 0, 0, 0, 0, 0, 0, 0, 0, 0,\n",
              "       0, 0, 0, 0, 0, 0, 0, 0, 0, 0, 0, 0, 0, 0, 0, 0, 0, 0, 0, 0, 0, 0,\n",
              "       0, 0, 0, 1, 0, 0, 0, 0, 0, 0, 0, 0, 0, 0, 0, 0, 0, 0, 0, 0, 0, 0,\n",
              "       0, 0, 0, 0, 0, 0, 0, 0, 0, 0, 0, 0, 0, 0, 0, 0, 0, 0, 0, 0, 0, 0,\n",
              "       0, 0, 0, 0, 0, 0, 0, 0, 0, 0, 0, 0, 0, 0, 0, 0, 0, 0, 0, 0, 0, 0,\n",
              "       0, 0, 0, 0, 0])"
            ]
          },
          "metadata": {
            "tags": []
          },
          "execution_count": 151
        }
      ]
    },
    {
      "cell_type": "code",
      "metadata": {
        "id": "MLGsHq0bzXTm",
        "outputId": "bb9f4afe-2e94-444c-e85f-b76f306695b5",
        "colab": {
          "base_uri": "https://localhost:8080/",
          "height": 17
        }
      },
      "source": [
        "# To create Dataframe of predicted value with particular respective index\n",
        "res = pd.DataFrame(Risk) #preditcions are nothing but the final predictions of your model on input features of your new unseen test data\n",
        "res.index = test_modified.index # its important for comparison. Here \"test_new\" is your new test dataset\n",
        "#res.columns = ['prediction']\n",
        "\n",
        "# To download the csv file locally\n",
        "from google.colab import files\n",
        "res.to_csv('prediction_results.csv',index=False,header=['prediction'])         \n",
        "files.download('prediction_results.csv')"
      ],
      "execution_count": 153,
      "outputs": [
        {
          "output_type": "display_data",
          "data": {
            "application/javascript": [
              "\n",
              "    async function download(id, filename, size) {\n",
              "      if (!google.colab.kernel.accessAllowed) {\n",
              "        return;\n",
              "      }\n",
              "      const div = document.createElement('div');\n",
              "      const label = document.createElement('label');\n",
              "      label.textContent = `Downloading \"${filename}\": `;\n",
              "      div.appendChild(label);\n",
              "      const progress = document.createElement('progress');\n",
              "      progress.max = size;\n",
              "      div.appendChild(progress);\n",
              "      document.body.appendChild(div);\n",
              "\n",
              "      const buffers = [];\n",
              "      let downloaded = 0;\n",
              "\n",
              "      const channel = await google.colab.kernel.comms.open(id);\n",
              "      // Send a message to notify the kernel that we're ready.\n",
              "      channel.send({})\n",
              "\n",
              "      for await (const message of channel.messages) {\n",
              "        // Send a message to notify the kernel that we're ready.\n",
              "        channel.send({})\n",
              "        if (message.buffers) {\n",
              "          for (const buffer of message.buffers) {\n",
              "            buffers.push(buffer);\n",
              "            downloaded += buffer.byteLength;\n",
              "            progress.value = downloaded;\n",
              "          }\n",
              "        }\n",
              "      }\n",
              "      const blob = new Blob(buffers, {type: 'application/binary'});\n",
              "      const a = document.createElement('a');\n",
              "      a.href = window.URL.createObjectURL(blob);\n",
              "      a.download = filename;\n",
              "      div.appendChild(a);\n",
              "      a.click();\n",
              "      div.remove();\n",
              "    }\n",
              "  "
            ],
            "text/plain": [
              "<IPython.core.display.Javascript object>"
            ]
          },
          "metadata": {
            "tags": []
          }
        },
        {
          "output_type": "display_data",
          "data": {
            "application/javascript": [
              "download(\"download_98767c48-0c2e-42fa-bb3e-077bc3884d5b\", \"prediction_results.csv\", 285)"
            ],
            "text/plain": [
              "<IPython.core.display.Javascript object>"
            ]
          },
          "metadata": {
            "tags": []
          }
        }
      ]
    },
    {
      "cell_type": "code",
      "metadata": {
        "id": "9jAQUd9aCsQG",
        "outputId": "47c1ec67-2f56-4f89-b2ce-c8731ec899a4",
        "colab": {
          "base_uri": "https://localhost:8080/",
          "height": 34
        }
      },
      "source": [
        ""
      ],
      "execution_count": 109,
      "outputs": [
        {
          "output_type": "execute_result",
          "data": {
            "text/plain": [
              "Index(['prediction'], dtype='object')"
            ]
          },
          "metadata": {
            "tags": []
          },
          "execution_count": 109
        }
      ]
    }
  ]
}